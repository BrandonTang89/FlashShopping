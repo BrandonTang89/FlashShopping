{
 "cells": [
  {
   "cell_type": "markdown",
   "metadata": {},
   "source": [
    "# IMMC 2020\n",
    "### Importing Modules and Data"
   ]
  },
  {
   "cell_type": "code",
   "execution_count": 1,
   "metadata": {},
   "outputs": [],
   "source": [
    "import pandas as pd\n",
    "import copy\n",
    "import math, statistics\n",
    "import matplotlib.pyplot as plt\n",
    "from pprint import pprint\n",
    "\n",
    "median_income = 9733/365\n",
    "loss_aversion_coefficient = 2\n",
    "\n",
    "pdt_csv_data = pd.read_csv(\"StoreData_IMMC_CSV.csv\")"
   ]
  },
  {
   "cell_type": "code",
   "execution_count": 2,
   "metadata": {},
   "outputs": [],
   "source": [
    "def sigmoid(x):\n",
    "    return 1 / (1 + math.exp(-x))"
   ]
  },
  {
   "cell_type": "markdown",
   "metadata": {},
   "source": [
    "## Determining the Popularity of Product\n",
    "### Impact of Discount on Popularity"
   ]
  },
  {
   "cell_type": "code",
   "execution_count": 3,
   "metadata": {},
   "outputs": [],
   "source": [
    "# Traditional Econs Approach\n",
    "def q1_over_q0(p0, p1, percentage_usage):\n",
    "    x = (p0 - p1)*(percentage_usage/median_income) \n",
    "    return (math.exp(x))\n",
    "\n",
    "# Behavioural Econs Approach\n",
    "def prospect_utility(x):\n",
    "    if x > 0:\n",
    "        return(math.log(x+1))\n",
    "    else:\n",
    "        return(-loss_aversion_coefficient * math.log(-x + 1))\n",
    "\n",
    "def increase_utility(p0, p1):\n",
    "    return(prospect_utility(p0 - p1))\n",
    "\n",
    "# Helper Variables\n",
    "max_increase_utility = increase_utility(3329.99, 2199.99)\n",
    "min_increase_utility = 0\n",
    "max_q1_over_q0 = q1_over_q0(3329.99, 2199.99, 1)\n",
    "min_q1_over_qo = 1\n",
    "\n",
    "# Combined Effect [Between 0 and 1]\n",
    "def popularity_due_to_discount(p0, p1, percentage_usage):\n",
    "    traditional_econs_adjusted = (q1_over_q0(p0, p1, percentage_usage)-min_q1_over_qo)/max_q1_over_q0\n",
    "    behavioural_econs_adjusted = (increase_utility(p0, p1)-min_increase_utility)/max_increase_utility\n",
    "\n",
    "    total_adjusted = statistics.mean([traditional_econs_adjusted, behavioural_econs_adjusted])\n",
    "    return(total_adjusted)"
   ]
  },
  {
   "cell_type": "markdown",
   "metadata": {},
   "source": [
    "### Effect of Loss Adversion on Popularity"
   ]
  },
  {
   "cell_type": "code",
   "execution_count": 4,
   "metadata": {},
   "outputs": [],
   "source": [
    "# [Between 0 and 1]\n",
    "def popularity_due_to_loss_aversion(qty):\n",
    "    return(math.exp(-qty/loss_aversion_coefficient))"
   ]
  },
  {
   "cell_type": "markdown",
   "metadata": {},
   "source": [
    "### Effects of Saliency Bias on Popularity (TO DO)"
   ]
  },
  {
   "cell_type": "code",
   "execution_count": 5,
   "metadata": {},
   "outputs": [],
   "source": [
    "def popularity_due_to_saliency_bias(size):\n",
    "    return sigmoid(size)"
   ]
  },
  {
   "cell_type": "markdown",
   "metadata": {},
   "source": [
    "### Effects of Ratings on Popularity"
   ]
  },
  {
   "cell_type": "code",
   "execution_count": 6,
   "metadata": {},
   "outputs": [],
   "source": [
    "# [Between 0 and 1]\n",
    "def popularity_due_to_rating(pdt_rating, brand_rating):\n",
    "    raw_brand = (0.8*pdt_rating + 0.2*brand_rating)\n",
    "    return(raw_brand/5)"
   ]
  },
  {
   "cell_type": "markdown",
   "metadata": {},
   "source": [
    "## Creating Product Class and List"
   ]
  },
  {
   "cell_type": "code",
   "execution_count": 7,
   "metadata": {},
   "outputs": [],
   "source": [
    "pdt_list = []\n",
    "class product:\n",
    "    # Popularity Coefficients\n",
    "    pop_loss_adversion_coefficient = 0.33\n",
    "    pop_saliency_coefficient = 0.33\n",
    "    pop_rating_coefficient = 0.33\n",
    "    \n",
    "    \n",
    "    # Raw Data\n",
    "    def __init__(self, index, name, department, product_category, product_type, brand, initial_price, discounted_price, qty, customer_rating, brand_rating=5, percentage_usage=0.5, size=0):\n",
    "        self.name = name\n",
    "        self.index = index\n",
    "        self.department = department\n",
    "        self.product_category = product_category\n",
    "        self.product_type = product_type\n",
    "        self.brand = brand\n",
    "        self.initial_price = initial_price\n",
    "        self.discounted_price = discounted_price\n",
    "        self.qty = qty\n",
    "        self.customer_rating = customer_rating\n",
    "        self.brand_rating = brand_rating\n",
    "        self.percentage_usage = percentage_usage\n",
    "        self.size = size\n",
    "        \n",
    "        self.popularity = 0\n",
    "    \n",
    "    # Processed Data\n",
    "    \n",
    "    def set_popularity(self):\n",
    "        discount_factor = popularity_due_to_discount(self.initial_price, self.discounted_price, self.percentage_usage)\n",
    "        loss_adversion_factor = popularity_due_to_loss_aversion(self.qty)\n",
    "        saliency_factor = popularity_due_to_saliency_bias(self.size)\n",
    "        rating_factor = popularity_due_to_rating(self.customer_rating, self.brand_rating)\n",
    "        \n",
    "        initial_popularity = self.pop_loss_adversion_coefficient*loss_adversion_factor + self.pop_saliency_coefficient*saliency_factor + self.pop_rating_coefficient*rating_factor\n",
    "        self.popularity = sigmoid(initial_popularity + discount_factor)\n",
    "        \n",
    "        \n",
    "        "
   ]
  },
  {
   "cell_type": "code",
   "execution_count": 8,
   "metadata": {},
   "outputs": [],
   "source": [
    "# Populating the Product List\n",
    "for index, row in pdt_csv_data.iterrows():\n",
    "    cur_pdt = product(index, row[\"name\"], row[\"department\"], row[\"product_category\"], row[\"product_type\"], row[\"brand\"], row[\"initial_price\"], row[\"discounted_price\"], row[\"qty\"], row[\"customer_rating\"])\n",
    "    cur_pdt.set_popularity()\n",
    "    \n",
    "    pdt_list.append(cur_pdt)\n"
   ]
  },
  {
   "cell_type": "raw",
   "metadata": {},
   "source": [
    "popularity_list = [pdt.popularity for pdt in pdt_list]\n",
    "popularity_list.sort()\n",
    "for pop in popularity_list:\n",
    "    print(pop)"
   ]
  },
  {
   "cell_type": "code",
   "execution_count": 9,
   "metadata": {},
   "outputs": [
    {
     "data": {
      "text/plain": [
       "4"
      ]
     },
     "execution_count": 9,
     "metadata": {},
     "output_type": "execute_result"
    }
   ],
   "source": [
    "pdt_list[4].index"
   ]
  },
  {
   "cell_type": "markdown",
   "metadata": {},
   "source": [
    "## Creating Shelf Class and Layout Object"
   ]
  },
  {
   "cell_type": "code",
   "execution_count": 10,
   "metadata": {},
   "outputs": [],
   "source": [
    "class shelf:\n",
    "    # Class Variables\n",
    "    max_capacity = 100\n",
    "    \n",
    "    def __init__(self):\n",
    "        self.pdts = []\n",
    "        self.pdt_set = set()\n",
    "        self.cur_capacity = 0\n",
    "    \n",
    "    def add_pdt(self, pdt):\n",
    "        # If shelf can accomodate the product\n",
    "        if self.cur_capacity + pdt.size <= self.max_capacity:\n",
    "            self.cur_capacity += pdt.size\n",
    "            self.pdts.append(pdt)\n",
    "            self.pdt_set.add(pdt.index)\n",
    "            return 0\n",
    "        \n",
    "        # If shelf is full\n",
    "        return -1\n",
    "    \n",
    "class layout:\n",
    "    \n",
    "    def __init__(self, grid, shelf_list=[], pdt_list=[]):\n",
    "        # Grid is a 2d matrix where shelves are 1 indexed\n",
    "        self.grid = copy.deepcopy(grid)\n",
    "        self.shelf_list = copy.deepcopy(shelf_list)\n",
    "        \n",
    "        # A* Grid is a grid where shelves are labelled as 1\n",
    "        self.a_star_grid = copy.deepcopy(grid)\n",
    "        for i in range(len(self.a_star_grid)):\n",
    "            for j in range(len(self.a_star_grid)):\n",
    "                if self.a_star_grid[i][j] > 1:\n",
    "                    self.a_star_grid[i][j] = 1\n",
    "                    \n",
    "        # pdt_list contains the products that exists somewhere within the layout\n",
    "        self.pdt_list = copy.deepcopy(pdt_list)\n",
    "        \n",
    "        self.entrance = [7,7]\n",
    "        \n",
    "    # A_Star Performs a simulation of a person walking within the layout from init to goal\n",
    "    # A_Star Returns a list of nodes visited on the path\n",
    "    # Coordinates are written as [y,x] with [0,0] being the upper left hand corner\n",
    "    def a_star(self, init, goal): \n",
    "        grid = copy.deepcopy(self.a_star_grid)\n",
    "        \n",
    "        # init = [0, 0]\n",
    "        # goal = [len(grid) - 1, len(grid[0]) - 1]  # all coordinates are given in format [y,x]\n",
    "        \n",
    "        cost = 1\n",
    "\n",
    "        # the cost map which pushes the path closer to the goal\n",
    "        heuristic = [[0 for row in range(len(grid[0]))] for col in range(len(grid))]\n",
    "        for i in range(len(grid)):\n",
    "            for j in range(len(grid[0])):\n",
    "                heuristic[i][j] = abs(i - goal[0]) + abs(j - goal[1])\n",
    "                if grid[i][j] == 1:\n",
    "                    heuristic[i][j] = 99  # added extra penalty in the heuristic map\n",
    "\n",
    "\n",
    "        # the actions we can take\n",
    "        delta = [[-1, 0], [0, -1], [1, 0], [0, 1]]  # go up  # go left  # go down  # go right\n",
    "\n",
    "\n",
    "        # function to search the path\n",
    "        def search(grid, init, goal, cost, heuristic):\n",
    "\n",
    "            closed = [\n",
    "                [0 for col in range(len(grid[0]))] for row in range(len(grid))\n",
    "            ]  # the reference grid\n",
    "            closed[init[0]][init[1]] = 1\n",
    "            action = [\n",
    "                [0 for col in range(len(grid[0]))] for row in range(len(grid))\n",
    "            ]  # the action grid\n",
    "\n",
    "            x = init[0]\n",
    "            y = init[1]\n",
    "            g = 0\n",
    "            f = g + heuristic[init[0]][init[0]]\n",
    "            cell = [[f, g, x, y]]\n",
    "\n",
    "            found = False  # flag that is set when search is complete\n",
    "            resign = False  # flag set if we can't find expand\n",
    "\n",
    "            while not found and not resign:\n",
    "                if len(cell) == 0:\n",
    "                    return \"FAIL\"\n",
    "                else:\n",
    "                    cell.sort()  # to choose the least costliest action so as to move closer to the goal\n",
    "                    cell.reverse()\n",
    "                    next = cell.pop()\n",
    "                    x = next[2]\n",
    "                    y = next[3]\n",
    "                    g = next[1]\n",
    "\n",
    "                    if x == goal[0] and y == goal[1]:\n",
    "                        found = True\n",
    "                    else:\n",
    "                        for i in range(len(delta)):  # to try out different valid actions\n",
    "                            x2 = x + delta[i][0]\n",
    "                            y2 = y + delta[i][1]\n",
    "                            if x2 >= 0 and x2 < len(grid) and y2 >= 0 and y2 < len(grid[0]):\n",
    "                                if closed[x2][y2] == 0 and grid[x2][y2] == 0:\n",
    "                                    g2 = g + cost\n",
    "                                    f2 = g2 + heuristic[x2][y2]\n",
    "                                    cell.append([f2, g2, x2, y2])\n",
    "                                    closed[x2][y2] = 1\n",
    "                                    action[x2][y2] = i\n",
    "            invpath = []\n",
    "            x = goal[0]\n",
    "            y = goal[1]\n",
    "            invpath.append([x, y])  # we get the reverse path from here\n",
    "            while x != init[0] or y != init[1]:\n",
    "                x2 = x - delta[action[x][y]][0]\n",
    "                y2 = y - delta[action[x][y]][1]\n",
    "                x = x2\n",
    "                y = y2\n",
    "                invpath.append([x, y])\n",
    "\n",
    "            path = []\n",
    "            for i in range(len(invpath)):\n",
    "                path.append(invpath[len(invpath) - 1 - i])\n",
    "                \n",
    "#             print(\"ACTION MAP\")\n",
    "#             for i in range(len(action)):\n",
    "#                 print(action[i])\n",
    "\n",
    "            return path\n",
    "        return search(grid, init, goal, cost, heuristic)\n",
    "    \n",
    "    # Simulates Choice of Object to Buy and Deletes that Object from Object List\n",
    "    def choose_pdt(self):\n",
    "        self.pdt_list.sort(key=lambda x: x.popularity, reverse=True)\n",
    "        chosen_pdt = pdt_list[0]\n",
    "        pdt_list.pop()\n",
    "        \n",
    "        return chosen_pdt\n",
    "        \n",
    "    # Simulates a person entering shop\n",
    "    def new_shopper(self):\n",
    "        chosen_pdt = self.choose_pdt()\n",
    "        print(\"Chosen Product\", chosen_pdt.index)\n",
    "        \n",
    "        for shelf_index, shelf in enumerate(self.shelf_list):\n",
    "            if chosen_pdt.index in shelf.pdt_set:\n",
    "                #print(\"Found Object\")\n",
    "                chosen_shelf_index = shelf_index\n",
    "                \n",
    "                # Remove product from shelf\n",
    "                shelf.pdt_set.discard(chosen_pdt.index)\n",
    "                for i, pdt in enumerate(shelf.pdts):\n",
    "                    if pdt.index == chosen_pdt.index:\n",
    "                        del shelf.pdts[i]\n",
    "                        break\n",
    "                        \n",
    "        print(\"Shelf Containing Product\", chosen_shelf_index)\n",
    "        \n",
    "        for y in range(len(self.grid)):\n",
    "            for x in range(len(self.grid[0])):\n",
    "                if self.grid[y][x] == chosen_shelf_index:\n",
    "                    shelf_location = (y,x)\n",
    "                    \n",
    "        delta = [(1,0), (-1,0), (0,1), (0,-1)]\n",
    "        for d in delta:\n",
    "            y = shelf_location[0]+d[0]\n",
    "            x = shelf_location[1]+d[1]\n",
    "            if x >= 0 and x < len(self.grid) and y >= 0 and y < len(self.grid[0]):\n",
    "                \n",
    "                path = self.a_star(self.entrance, [y,x])\n",
    "                if path == \"FAIL\":\n",
    "                    continue\n",
    "                else:\n",
    "                    return path\n",
    "                    \n",
    "                \n",
    "        \n",
    "        print(\"Unable to Reach Object\")\n",
    "        return\n",
    "        "
   ]
  },
  {
   "cell_type": "code",
   "execution_count": 11,
   "metadata": {},
   "outputs": [
    {
     "name": "stdout",
     "output_type": "stream",
     "text": [
      "Chosen Product 0\n",
      "Shelf Containing Product 1\n",
      "[[0, 0, -1, -1, -1, -1, -1, -1],\n",
      " [0, 0, 1, 0, 0, 2, 0, -1],\n",
      " [0, 0, 3, 0, 0, 4, 0, -1],\n",
      " [0, 0, 11, 0, 0, 6, 0, -1],\n",
      " [0, 0, 12, 0, 0, 7, 0, -1],\n",
      " [0, 0, 13, 0, 0, 8, 0, -1],\n",
      " [0, 0, 14, 0, 0, 9, 0, -1],\n",
      " [0, 0, 15, 0, 0, 10, 0, -1]]\n"
     ]
    }
   ],
   "source": [
    "## Testing the Layout Object\n",
    "example_layout_grid = [\n",
    "    [0,0,0,0,0,0,0,0],\n",
    "    [0,0,1,0,0,2,0,0],\n",
    "    [0,0,3,0,0,4,0,0],\n",
    "    [0,0,11,0,0,6,0,0],\n",
    "    [0,0,12,0,0,7,0,0],\n",
    "    [0,0,13,0,0,8,0,0],\n",
    "    [0,0,14,0,0,9,0,0],\n",
    "    [0,0,15,0,0,10,0,0]\n",
    "]\n",
    "goal = [7,1]\n",
    "start = [7,7]\n",
    "\n",
    "pdt_1 = pdt_list[0]\n",
    "shelf_0 = shelf()\n",
    "shelf_1 = shelf()\n",
    "shelf_1.add_pdt(pdt_1)\n",
    "\n",
    "test_layout = layout(example_layout_grid, [shelf_0, shelf_1], [pdt_1])\n",
    "\n",
    "optimal_path = test_layout.new_shopper()\n",
    "annotated_grid = copy.deepcopy(example_layout_grid)\n",
    "for cell in optimal_path:\n",
    "    annotated_grid[cell[0]][cell[1]] = -1\n",
    "\n",
    "pprint(annotated_grid)"
   ]
  },
  {
   "cell_type": "code",
   "execution_count": null,
   "metadata": {},
   "outputs": [],
   "source": []
  }
 ],
 "metadata": {
  "kernelspec": {
   "display_name": "Python 3",
   "language": "python",
   "name": "python3"
  },
  "language_info": {
   "codemirror_mode": {
    "name": "ipython",
    "version": 3
   },
   "file_extension": ".py",
   "mimetype": "text/x-python",
   "name": "python",
   "nbconvert_exporter": "python",
   "pygments_lexer": "ipython3",
   "version": "3.7.5"
  }
 },
 "nbformat": 4,
 "nbformat_minor": 2
}
