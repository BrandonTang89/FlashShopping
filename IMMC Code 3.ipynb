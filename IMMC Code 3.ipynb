{
 "cells": [
  {
   "cell_type": "markdown",
   "metadata": {},
   "source": [
    "# IMMC 2020: With testing of departments\n",
    "### Importing Modules and Data"
   ]
  },
  {
   "cell_type": "code",
   "execution_count": 1,
   "metadata": {},
   "outputs": [
    {
     "name": "stdout",
     "output_type": "stream",
     "text": [
      "          department product_category       product_type     brand  \\\n",
      "0    TV&Home Theater   TVS 30\" to 45\"    1080p LED Smart  Brand BB   \n",
      "1  Computers&Tablets          Laptops  2-in-1 Chromebook   Brand A   \n",
      "2  Computers&Tablets          Laptops  2-in-1 Chromebook  Brand BB   \n",
      "3  Computers&Tablets          Laptops  2-in-1 Chromebook   Brand G   \n",
      "4  Computers&Tablets          Laptops  2-in-1 Chromebook   Brand P   \n",
      "\n",
      "                                                name  initial_price  \\\n",
      "0                 40\" 1080p Smart LED HDTV, 5 Series         259.99   \n",
      "1  2-in-1 11.6\" Touch-Screen Chromebook, Intel Ce...         279.99   \n",
      "2  2-in-1 12.2\" Touch-Screen Chromebook, Intel Ce...         449.00   \n",
      "3  2-in-1 14\" Touch-Screen Chromebook, Intel Core...         549.00   \n",
      "4  2-in-1 14\" Touch-Screen Chromebook, Intel Core...         599.00   \n",
      "\n",
      "   discounted_price  qty  customer_rating  brand_rating  percentage_usage  \\\n",
      "0            179.99    8              4.7      4.623810              0.95   \n",
      "1            219.00   10              4.5      4.500000              0.78   \n",
      "2            299.00    8              4.5      4.623810              0.78   \n",
      "3            449.00   10              4.6      4.580000              0.78   \n",
      "4            349.00    8              4.6      4.631579              0.78   \n",
      "\n",
      "       size  index_size  \n",
      "0  0.029813    2.012690  \n",
      "1  0.001606    0.108422  \n",
      "2  0.001606    0.108422  \n",
      "3  0.001606    0.108422  \n",
      "4  0.001606    0.108422  \n"
     ]
    }
   ],
   "source": [
    "import pandas as pd\n",
    "import copy\n",
    "import re\n",
    "import random\n",
    "import math, statistics\n",
    "import numpy as np\n",
    "import progressbar\n",
    "import gc\n",
    "import matplotlib.pyplot as plt\n",
    "from pprint import pprint\n",
    "\n",
    "median_income = 9733/365\n",
    "loss_aversion_coefficient = 2\n",
    "max_shelf_capacity = 150\n",
    "crowd_avoidance = 0.5\n",
    "\n",
    "pdt_csv_data = pd.read_csv(\"StoreData_IMMC_CSV.csv\")\n",
    "print(pdt_csv_data.head())"
   ]
  },
  {
   "cell_type": "code",
   "execution_count": 2,
   "metadata": {},
   "outputs": [],
   "source": [
    "def sigmoid(x):\n",
    "    return 1 / (1 + math.exp(-x))"
   ]
  },
  {
   "cell_type": "markdown",
   "metadata": {},
   "source": [
    "## Determining the Popularity of Product\n",
    "### Impact of Discount on Popularity"
   ]
  },
  {
   "cell_type": "code",
   "execution_count": 3,
   "metadata": {},
   "outputs": [],
   "source": [
    "# Traditional Econs Approach\n",
    "def q1_over_q0(p0, p1, percentage_usage):\n",
    "    x = (p0 - p1)*(percentage_usage/median_income) \n",
    "    return (math.exp(x))\n",
    "\n",
    "# Behavioural Econs Approach\n",
    "def prospect_utility(x):\n",
    "    if x > 0:\n",
    "        return(math.log(x+1))\n",
    "    else:\n",
    "        return(-loss_aversion_coefficient * math.log(-x + 1))\n",
    "\n",
    "def increase_utility(p0, p1):\n",
    "    return(prospect_utility(p0 - p1))\n",
    "\n",
    "# Helper Variables\n",
    "max_increase_utility = increase_utility(3329.99, 2199.99)\n",
    "min_increase_utility = 0\n",
    "max_q1_over_q0 = q1_over_q0(3329.99, 2199.99, 1)\n",
    "min_q1_over_qo = 1\n",
    "\n",
    "# Combined Effect [Between 0 and 1]\n",
    "def popularity_due_to_discount(p0, p1, percentage_usage):\n",
    "    traditional_econs_adjusted = (q1_over_q0(p0, p1, percentage_usage)-min_q1_over_qo)/max_q1_over_q0\n",
    "    behavioural_econs_adjusted = (increase_utility(p0, p1)-min_increase_utility)/max_increase_utility\n",
    "\n",
    "    total_adjusted = statistics.mean([traditional_econs_adjusted, behavioural_econs_adjusted])\n",
    "    return(total_adjusted)"
   ]
  },
  {
   "cell_type": "markdown",
   "metadata": {},
   "source": [
    "### Effect of Loss Adversion on Popularity"
   ]
  },
  {
   "cell_type": "code",
   "execution_count": 4,
   "metadata": {},
   "outputs": [],
   "source": [
    "# [Between 0 and 1]\n",
    "def popularity_due_to_loss_aversion(qty):\n",
    "    return(math.exp(-qty/loss_aversion_coefficient))"
   ]
  },
  {
   "cell_type": "markdown",
   "metadata": {},
   "source": [
    "### Effects of Saliency Bias on Popularity (TO DO)"
   ]
  },
  {
   "cell_type": "code",
   "execution_count": 5,
   "metadata": {},
   "outputs": [],
   "source": [
    "def popularity_due_to_saliency_bias(size, qty):\n",
    "    return sigmoid(size*qty)"
   ]
  },
  {
   "cell_type": "markdown",
   "metadata": {},
   "source": [
    "### Effects of Ratings on Popularity"
   ]
  },
  {
   "cell_type": "code",
   "execution_count": 6,
   "metadata": {},
   "outputs": [],
   "source": [
    "# [Between 0 and 1]\n",
    "def popularity_due_to_rating(pdt_rating, brand_rating):\n",
    "    raw_brand = (0.8*pdt_rating + 0.2*brand_rating)\n",
    "    return(raw_brand/5)"
   ]
  },
  {
   "cell_type": "markdown",
   "metadata": {},
   "source": [
    "## Creating Product Class and List"
   ]
  },
  {
   "cell_type": "code",
   "execution_count": 7,
   "metadata": {},
   "outputs": [],
   "source": [
    "class product:\n",
    "    # Popularity Coefficients\n",
    "    pop_loss_adversion_coefficient = 0.44\n",
    "    pop_saliency_coefficient = 0.6\n",
    "    pop_rating_coefficient = 0.5\n",
    "    \n",
    "    \n",
    "    # Raw Data\n",
    "    def __init__(self, index, name, department, product_category, product_type, brand, initial_price, discounted_price, qty, customer_rating, brand_rating=5, percentage_usage=0.5, size=20):\n",
    "        self.name = name\n",
    "        self.index = index\n",
    "        self.department = department\n",
    "        self.product_category = product_category\n",
    "        self.product_type = product_type\n",
    "        self.brand = brand\n",
    "        self.initial_price = initial_price\n",
    "        self.discounted_price = discounted_price\n",
    "        self.qty = qty\n",
    "        self.customer_rating = customer_rating\n",
    "        self.brand_rating = brand_rating\n",
    "        self.percentage_usage = percentage_usage\n",
    "        self.size = size\n",
    "        \n",
    "        self.popularity = 0\n",
    "    \n",
    "    # Processed Data\n",
    "    \n",
    "    def set_popularity(self):\n",
    "        discount_factor = popularity_due_to_discount(self.initial_price, self.discounted_price, self.percentage_usage)\n",
    "        loss_adversion_factor = popularity_due_to_loss_aversion(self.qty)\n",
    "        saliency_factor = popularity_due_to_saliency_bias(self.size, self.qty)\n",
    "        rating_factor = popularity_due_to_rating(self.customer_rating, self.brand_rating)\n",
    "        \n",
    "        initial_popularity = self.pop_loss_adversion_coefficient*loss_adversion_factor + self.pop_saliency_coefficient*saliency_factor + self.pop_rating_coefficient*rating_factor\n",
    "        self.popularity = sigmoid(initial_popularity + discount_factor)\n",
    "        \n",
    "        \n",
    "        "
   ]
  },
  {
   "cell_type": "code",
   "execution_count": 8,
   "metadata": {},
   "outputs": [
    {
     "name": "stdout",
     "output_type": "stream",
     "text": [
      "index 0 department TV&Home Theater qty 8 net_size 16.10151668\n",
      "index 1 department Computers&Tablets qty 10 net_size 1.084217678\n",
      "index 2 department Computers&Tablets qty 8 net_size 0.8673741424\n",
      "index 3 department Computers&Tablets qty 10 net_size 1.084217678\n",
      "index 4 department Computers&Tablets qty 8 net_size 0.8673741424\n",
      "index 5 department Computers&Tablets qty 8 net_size 0.8673741424\n",
      "index 6 department Computers&Tablets qty 10 net_size 1.084217678\n",
      "index 7 department Computers&Tablets qty 8 net_size 0.8673741424\n",
      "index 8 department Computers&Tablets qty 8 net_size 0.8673741424\n",
      "index 9 department Computers&Tablets qty 10 net_size 1.084217678\n",
      "index 10 department Computers&Tablets qty 10 net_size 1.084217678\n",
      "index 11 department TV&Home Theater qty 10 net_size 20.12689585\n",
      "index 12 department TV&Home Theater qty 12 net_size 38.310133404\n",
      "index 13 department TV&Home Theater qty 12 net_size 38.310133404\n",
      "index 14 department TV&Home Theater qty 12 net_size 38.310133404\n",
      "index 15 department TV&Home Theater qty 8 net_size 25.540088936\n",
      "index 16 department TV&Home Theater qty 12 net_size 38.310133404\n",
      "index 17 department TV&Home Theater qty 12 net_size 38.310133404\n",
      "index 18 department TV&Home Theater qty 8 net_size 25.540088936\n",
      "index 19 department TV&Home Theater qty 12 net_size 59.490946572\n",
      "index 20 department TV&Home Theater qty 12 net_size 59.490946572\n",
      "index 21 department TV&Home Theater qty 12 net_size 59.490946572\n",
      "index 22 department TV&Home Theater qty 12 net_size 59.490946572\n",
      "index 23 department TV&Home Theater qty 12 net_size 59.490946572\n",
      "index 24 department TV&Home Theater qty 8 net_size 39.660631048\n",
      "index 25 department TV&Home Theater qty 8 net_size 52.992178256\n",
      "index 26 department TV&Home Theater qty 15 net_size 99.36033423\n",
      "index 27 department TV&Home Theater qty 8 net_size 52.992178256\n",
      "index 28 department TV&Home Theater qty 8 net_size 82.81232256\n",
      "index 29 department TV&Home Theater qty 12 net_size 38.310133404\n",
      "index 30 department TV&Home Theater qty 12 net_size 59.490946572\n",
      "index 31 department TV&Home Theater qty 12 net_size 59.490946572\n",
      "index 32 department TV&Home Theater qty 15 net_size 74.363683215\n",
      "index 33 department TV&Home Theater qty 15 net_size 74.363683215\n",
      "index 34 department TV&Home Theater qty 12 net_size 79.48826738400001\n",
      "index 35 department TV&Home Theater qty 15 net_size 99.36033423\n",
      "index 36 department TV&Home Theater qty 8 net_size 16.10151668\n",
      "index 37 department TV&Home Theater qty 10 net_size 20.12689585\n",
      "index 38 department TV&Home Theater qty 12 net_size 24.152275019999998\n",
      "index 39 department Computers&Tablets qty 15 net_size 13.3326371145\n",
      "index 40 department Computers&Tablets qty 15 net_size 13.3326371145\n",
      "index 41 department Computers&Tablets qty 15 net_size 13.3326371145\n",
      "index 42 department Computers&Tablets qty 12 net_size 13.060392671999999\n",
      "index 43 department Computers&Tablets qty 12 net_size 13.060392671999999\n",
      "index 44 department Computers&Tablets qty 12 net_size 13.060392671999999\n",
      "index 45 department Computers&Tablets qty 12 net_size 13.060392671999999\n",
      "index 46 department Computers&Tablets qty 12 net_size 13.060392671999999\n",
      "index 47 department Computers&Tablets qty 15 net_size 16.32549084\n",
      "index 48 department TV&Home Theater qty 8 net_size 6.3723668151999995\n",
      "index 49 department TV&Home Theater qty 8 net_size 6.3723668151999995\n",
      "index 50 department TV&Home Theater qty 10 net_size 7.965458518999999\n",
      "index 51 department TV&Home Theater qty 8 net_size 6.3723668151999995\n",
      "index 52 department TV&Home Theater qty 10 net_size 7.965458518999999\n",
      "index 53 department TV&Home Theater qty 15 net_size 11.9481877785\n",
      "index 54 department Cameras qty 10 net_size 0.5161575841\n",
      "index 55 department Cameras qty 20 net_size 1.0323151682\n",
      "index 56 department Cameras qty 20 net_size 1.0323151682\n",
      "index 57 department Cameras qty 20 net_size 1.0323151682\n",
      "index 58 department Cameras qty 15 net_size 0.77423637615\n",
      "index 59 department Cameras qty 20 net_size 1.0323151682\n",
      "index 60 department Cameras qty 10 net_size 0.5161575841\n",
      "index 61 department Cameras qty 10 net_size 0.5161575841\n",
      "index 62 department Cameras qty 20 net_size 1.0323151682\n",
      "index 63 department Cameras qty 20 net_size 1.0323151682\n",
      "index 64 department Computers&Tablets qty 10 net_size 1.084217678\n",
      "index 65 department Computers&Tablets qty 12 net_size 1.3010612136\n",
      "index 66 department Video Gaming qty 15 net_size 15.578209349999998\n",
      "index 67 department Video Gaming qty 15 net_size 15.578209349999998\n",
      "index 68 department Video Gaming qty 15 net_size 15.578209349999998\n",
      "index 69 department Video Gaming qty 20 net_size 20.7709458\n",
      "index 70 department Computers&Tablets qty 10 net_size 8.888424743000002\n",
      "index 71 department Computers&Tablets qty 12 net_size 10.6661096916\n",
      "index 72 department Appliances qty 6 net_size 133.95138852000002\n",
      "index 72 department Appliances qty 4 net_size 89.30092568\n",
      "index 73 department Appliances qty 6 net_size 133.95138852000002\n",
      "index 73 department Appliances qty 2 net_size 44.65046284\n",
      "index 74 department Appliances qty 4 net_size 138.71735168\n",
      "index 74 department Appliances qty 1 net_size 34.67933792\n",
      "index 75 department Appliances qty 4 net_size 138.71735168\n",
      "index 75 department Appliances qty 1 net_size 34.67933792\n",
      "index 76 department Appliances qty 4 net_size 138.71735168\n",
      "index 76 department Appliances qty 4 net_size 138.71735168\n",
      "index 77 department Appliances qty 4 net_size 138.71735168\n",
      "index 77 department Appliances qty 4 net_size 138.71735168\n",
      "index 78 department Video Gaming qty 10 net_size 31.08683303\n",
      "index 79 department Video Gaming qty 12 net_size 37.30419963600001\n",
      "index 80 department Video Gaming qty 15 net_size 46.630249545000005\n",
      "index 81 department Video Gaming qty 15 net_size 46.630249545000005\n",
      "index 82 department Video Gaming qty 15 net_size 46.630249545000005\n",
      "index 83 department Video Gaming qty 12 net_size 1.713597294\n",
      "index 84 department Video Gaming qty 12 net_size 1.713597294\n",
      "index 85 department Video Gaming qty 10 net_size 1.427997745\n",
      "index 86 department Video Gaming qty 15 net_size 2.1419966175000003\n",
      "index 87 department Cell Phones qty 15 net_size 0.12330431109000001\n",
      "index 88 department Cell Phones qty 20 net_size 0.16440574812000003\n",
      "index 89 department Cell Phones qty 20 net_size 0.16440574812000003\n",
      "index 90 department Computers&Tablets qty 15 net_size 69.634532745\n",
      "index 91 department Computers&Tablets qty 15 net_size 69.634532745\n",
      "index 92 department Computers&Tablets qty 12 net_size 55.707626196\n",
      "index 93 department Computers&Tablets qty 8 net_size 37.138417464\n",
      "index 94 department Computers&Tablets qty 12 net_size 55.707626196\n",
      "index 95 department Computers&Tablets qty 12 net_size 55.707626196\n",
      "index 96 department Computers&Tablets qty 12 net_size 55.707626196\n",
      "index 97 department Appliances qty 10 net_size 91.54451217\n",
      "index 98 department Appliances qty 15 net_size 137.316768255\n",
      "index 99 department Computers&Tablets qty 12 net_size 1.3010612136\n",
      "index 100 department Computers&Tablets qty 8 net_size 0.8673741424\n",
      "index 101 department Computers&Tablets qty 10 net_size 1.084217678\n",
      "index 102 department Computers&Tablets qty 10 net_size 1.084217678\n",
      "index 103 department Computers&Tablets qty 10 net_size 1.084217678\n",
      "index 104 department Computers&Tablets qty 12 net_size 1.3010612136\n",
      "index 105 department Computers&Tablets qty 10 net_size 1.084217678\n",
      "index 106 department Computers&Tablets qty 12 net_size 1.3010612136\n",
      "index 107 department Appliances qty 4 net_size 145.50121044\n",
      "index 107 department Appliances qty 1 net_size 36.37530261\n",
      "index 108 department Appliances qty 4 net_size 145.50121044\n",
      "index 108 department Appliances qty 4 net_size 145.50121044\n",
      "index 109 department Appliances qty 4 net_size 145.50121044\n",
      "index 109 department Appliances qty 1 net_size 36.37530261\n",
      "index 110 department Appliances qty 4 net_size 145.50121044\n",
      "index 110 department Appliances qty 4 net_size 145.50121044\n",
      "index 111 department Appliances qty 4 net_size 145.50121044\n",
      "index 111 department Appliances qty 1 net_size 36.37530261\n",
      "index 112 department Appliances qty 4 net_size 145.50121044\n",
      "index 112 department Appliances qty 1 net_size 36.37530261\n",
      "index 113 department Appliances qty 1 net_size 100.0\n",
      "index 113 department Appliances qty 1 net_size 100.0\n",
      "index 113 department Appliances qty 1 net_size 100.0\n",
      "index 113 department Appliances qty 1 net_size 100.0\n",
      "index 113 department Appliances qty 1 net_size 100.0\n",
      "index 114 department Appliances qty 1 net_size 100.0\n",
      "index 114 department Appliances qty 1 net_size 100.0\n",
      "index 114 department Appliances qty 1 net_size 100.0\n",
      "index 114 department Appliances qty 1 net_size 100.0\n",
      "index 114 department Appliances qty 1 net_size 100.0\n",
      "index 114 department Appliances qty 1 net_size 100.0\n",
      "index 114 department Appliances qty 1 net_size 100.0\n",
      "index 114 department Appliances qty 1 net_size 100.0\n",
      "index 115 department Appliances qty 1 net_size 100.0\n",
      "index 115 department Appliances qty 1 net_size 100.0\n",
      "index 115 department Appliances qty 1 net_size 100.0\n",
      "index 115 department Appliances qty 1 net_size 100.0\n",
      "index 115 department Appliances qty 1 net_size 100.0\n",
      "index 116 department Appliances qty 1 net_size 100.0\n",
      "index 116 department Appliances qty 1 net_size 100.0\n",
      "index 116 department Appliances qty 1 net_size 100.0\n",
      "index 116 department Appliances qty 1 net_size 100.0\n",
      "index 116 department Appliances qty 1 net_size 100.0\n",
      "index 116 department Appliances qty 1 net_size 100.0\n",
      "index 116 department Appliances qty 1 net_size 100.0\n",
      "index 116 department Appliances qty 1 net_size 100.0\n",
      "index 117 department Appliances qty 1 net_size 100.0\n",
      "index 117 department Appliances qty 1 net_size 100.0\n"
     ]
    },
    {
     "name": "stdout",
     "output_type": "stream",
     "text": [
      "index 117 department Appliances qty 1 net_size 100.0\n",
      "index 117 department Appliances qty 1 net_size 100.0\n",
      "index 117 department Appliances qty 1 net_size 100.0\n",
      "index 117 department Appliances qty 1 net_size 100.0\n",
      "index 117 department Appliances qty 1 net_size 100.0\n",
      "index 117 department Appliances qty 1 net_size 100.0\n",
      "index 117 department Appliances qty 1 net_size 100.0\n",
      "index 117 department Appliances qty 1 net_size 100.0\n",
      "index 118 department Appliances qty 15 net_size 12.9039395685\n",
      "index 119 department Appliances qty 10 net_size 8.602626379\n",
      "index 120 department Appliances qty 10 net_size 8.602626379\n",
      "index 121 department Appliances qty 15 net_size 12.9039395685\n",
      "index 122 department Appliances qty 13 net_size 143.53199016\n",
      "index 122 department Appliances qty 2 net_size 22.08184464\n",
      "index 123 department Computers&Tablets qty 10 net_size 0.28197497569999996\n",
      "index 124 department Computers&Tablets qty 10 net_size 0.28197497569999996\n",
      "index 125 department Appliances qty 10 net_size 110.4092232\n",
      "index 126 department Appliances qty 10 net_size 110.4092232\n",
      "index 127 department Appliances qty 4 net_size 143.96123636\n",
      "index 127 department Appliances qty 1 net_size 35.99030909\n",
      "index 128 department Appliances qty 4 net_size 143.96123636\n",
      "index 128 department Appliances qty 4 net_size 143.96123636\n",
      "index 129 department Appliances qty 4 net_size 143.96123636\n",
      "index 129 department Appliances qty 1 net_size 35.99030909\n",
      "index 130 department Appliances qty 4 net_size 143.96123636\n",
      "index 130 department Appliances qty 4 net_size 143.96123636\n",
      "index 131 department Appliances qty 4 net_size 143.96123636\n",
      "index 131 department Appliances qty 1 net_size 35.99030909\n",
      "index 132 department Audio qty 25 net_size 0.20550718515000002\n",
      "index 133 department Audio qty 25 net_size 0.20550718515000002\n",
      "pdt_list len 183\n",
      "Number of products 183\n"
     ]
    }
   ],
   "source": [
    "# Populating the Product List\n",
    "pdt_list = []\n",
    "pdt_counter = 0\n",
    "for index, row in pdt_csv_data.iterrows():\n",
    "    \n",
    "    total_qty = row[\"qty\"]\n",
    "    unit_size = row[\"index_size\"]\n",
    "    while True:\n",
    "        \n",
    "        cur_qty = min(int(max_shelf_capacity/unit_size), total_qty)\n",
    "        print(\"index\", index, \"department\", row[\"department\"], \"qty\", cur_qty, \"net_size\", cur_qty*unit_size)\n",
    "        total_qty -= cur_qty\n",
    "        \n",
    "        cur_pdt = product(index, row[\"name\"], row[\"department\"], row[\"product_category\"], row[\"product_type\"], row[\"brand\"], row[\"initial_price\"], row[\"discounted_price\"], cur_qty, row[\"customer_rating\"], size=unit_size, brand_rating=row[\"brand_rating\"], percentage_usage=row[\"percentage_usage\"])\n",
    "        cur_pdt.set_popularity()\n",
    "        \n",
    "        \n",
    "        pdt_counter += 1\n",
    "        pdt_list.append(cur_pdt)\n",
    "        \n",
    "        if total_qty <=0:\n",
    "            break\n",
    "\n",
    "print(\"pdt_list len\", len(pdt_list))\n",
    "print(\"Number of products\", pdt_counter)"
   ]
  },
  {
   "cell_type": "code",
   "execution_count": 9,
   "metadata": {},
   "outputs": [
    {
     "name": "stdout",
     "output_type": "stream",
     "text": [
      "Department: Appliances Average Popularity 0.8155674215018757\n",
      "Department: Audio Average Popularity 0.7490197320470443\n",
      "Department: Cameras Average Popularity 0.7787335325753125\n",
      "Department: Cell Phones Average Popularity 0.734969213567913\n",
      "Department: Computers&Tablets Average Popularity 0.7910655224522162\n",
      "Department: TV&Home Theater Average Popularity 0.7995588391995322\n",
      "Department: Video Gaming Average Popularity 0.8057095230819985\n"
     ]
    }
   ],
   "source": [
    "department_popularities = {\n",
    "    \"Appliances\": 0,\n",
    "    \"Audio\": 0,\n",
    "    \"Cameras\": 0,\n",
    "    \"Cell Phones\": 0,\n",
    "    \"Computers&Tablets\": 0,\n",
    "    \"TV&Home Theater\": 0,\n",
    "    \"Video Gaming\": 0\n",
    "}\n",
    "department_qty = {\n",
    "    \"Appliances\": 0,\n",
    "    \"Audio\": 0,\n",
    "    \"Cameras\": 0,\n",
    "    \"Cell Phones\": 0,\n",
    "    \"Computers&Tablets\": 0,\n",
    "    \"TV&Home Theater\": 0,\n",
    "    \"Video Gaming\": 0\n",
    "}\n",
    "for pdt in pdt_list:\n",
    "    department_popularities[pdt.department]+= pdt.popularity*pdt.qty\n",
    "    department_qty[pdt.department]+= pdt.qty\n",
    "\n",
    "for department, total_pop in department_popularities.items():\n",
    "    print(\"Department:\", department, \"Average Popularity\", total_pop/department_qty[department])"
   ]
  },
  {
   "cell_type": "code",
   "execution_count": 10,
   "metadata": {},
   "outputs": [
    {
     "data": {
      "text/plain": [
       "4"
      ]
     },
     "execution_count": 10,
     "metadata": {},
     "output_type": "execute_result"
    }
   ],
   "source": [
    "pdt_list[4].index"
   ]
  },
  {
   "cell_type": "markdown",
   "metadata": {},
   "source": [
    "## Creating Shelf Class and Layout Object"
   ]
  },
  {
   "cell_type": "code",
   "execution_count": 11,
   "metadata": {},
   "outputs": [],
   "source": [
    "class shelf:\n",
    "    # Class Variables\n",
    "    \n",
    "    def __init__(self, department):\n",
    "        self.pdts = []\n",
    "        self.pdt_set = set()\n",
    "        self.department = department\n",
    "        self.cur_capacity = 0\n",
    "    \n",
    "    def add_pdt(self, pdt):\n",
    "        # Check Department\n",
    "        # print(\"Adding Product\")\n",
    "        # print(\"  product_department\", pdt.department)\n",
    "        # print(\"  shelf_department\", self.department)\n",
    "        if pdt.department != self.department:\n",
    "            return -1\n",
    "        \n",
    "        # If shelf can accomodate the product\n",
    "        if self.cur_capacity + pdt.size*pdt.qty <= max_shelf_capacity:\n",
    "            self.cur_capacity += pdt.size*pdt.qty\n",
    "            self.pdts.append(pdt)\n",
    "            self.pdt_set.add(pdt.index)\n",
    "            return 0\n",
    "        \n",
    "        # If shelf is full\n",
    "        return -1"
   ]
  },
  {
   "cell_type": "code",
   "execution_count": 12,
   "metadata": {},
   "outputs": [],
   "source": [
    "class layout:\n",
    "    \n",
    "    def __init__(self, grid, counter, entrance, exit, shelf_list=[], pdt_list=[]):\n",
    "        self.counter = counter\n",
    "        self.value_of_goods_bought = 0\n",
    "        self.entrance = entrance\n",
    "        self.exit = exit\n",
    "        \n",
    "        # Grid is a 2d matrix where shelves are 1 indexed\n",
    "        self.grid = copy.deepcopy(grid)\n",
    "        self.shelf_list = copy.deepcopy(shelf_list)\n",
    "        \n",
    "        # A* Grid is a grid where shelves are labelled as 1\n",
    "        self.a_star_grid = copy.deepcopy(grid)\n",
    "        for i in range(len(self.a_star_grid)):\n",
    "            for j in range(len(self.a_star_grid)):\n",
    "                if self.a_star_grid[i][j] > 1:\n",
    "                    self.a_star_grid[i][j] = 1\n",
    "                    \n",
    "        # Shopper Density Grid is a grid to record the density of shoppers; shelves have a density of 99\n",
    "        self.shopper_density_grid = copy.deepcopy(self.a_star_grid)\n",
    "        for i in range(len(self.shopper_density_grid)):\n",
    "            for j in range(len(self.shopper_density_grid)):\n",
    "                if self.shopper_density_grid[i][j] == 1:\n",
    "                    self.shopper_density_grid[i][j] = -1\n",
    "                    \n",
    "        # Price Density Grid is a grid to record to value of products the customers are carrying at particular locations\n",
    "        self.price_density_grid = copy.deepcopy(grid)\n",
    "        for i in range(len(self.price_density_grid)):\n",
    "            for j in range(len(self.price_density_grid)):\n",
    "                if self.price_density_grid[i][j] > 0:\n",
    "                    self.price_density_grid[i][j] = 0\n",
    "                    \n",
    "                    \n",
    "        # pdt_list contains the products that exists somewhere within the layout\n",
    "        self.pdt_list = copy.deepcopy(pdt_list)\n",
    "        \n",
    "        \n",
    "        \n",
    "    # A_Star Performs a simulation of a person walking within the layout from init to goal\n",
    "    # A_Star Returns a list of nodes visited on the path\n",
    "    # Coordinates are written as [y,x] with [0,0] being the upper left hand corner\n",
    "    def a_star(self, init, goal): \n",
    "        grid = copy.deepcopy(self.a_star_grid)\n",
    "        cost = 1\n",
    "\n",
    "        # the cost map which pushes the path closer to the goal\n",
    "#         heuristic = [[0 for row in range(len(grid[0]))] for col in range(len(grid))]\n",
    "#         for i in range(len(grid)):\n",
    "#             for j in range(len(grid[0])):\n",
    "#                 heuristic[i][j] = abs(i - goal[0]) + abs(j - goal[1])\n",
    "#                 if grid[i][j] == 1:\n",
    "#                     heuristic[i][j] = 99  # added extra penalty in the heuristic map\n",
    "\n",
    "        heuristic = [[0 for row in range(len(grid[0]))] for col in range(len(grid))]\n",
    "        for i in range(len(grid)):\n",
    "            for j in range(len(grid[0])):\n",
    "                heuristic[i][j] = abs(i - goal[0]) + abs(j - goal[1])\n",
    "                if grid[i][j] == 1:\n",
    "                    heuristic[i][j] = 999999  # added extra penalty in the heuristic map\n",
    "                else:\n",
    "                    heuristic[i][j] = crowd_avoidance * self.shopper_density_grid[i][j]\n",
    "\n",
    "\n",
    "\n",
    "        # the actions we can take\n",
    "        delta = [[-1, 0], [0, -1], [1, 0], [0, 1]]  # go up  # go left  # go down  # go right\n",
    "\n",
    "\n",
    "        # function to search the path\n",
    "        def search(grid, init, goal, cost, heuristic):\n",
    "\n",
    "            closed = [\n",
    "                [0 for col in range(len(grid[0]))] for row in range(len(grid))\n",
    "            ]  # the reference grid\n",
    "            closed[init[0]][init[1]] = 1\n",
    "            action = [\n",
    "                [0 for col in range(len(grid[0]))] for row in range(len(grid))\n",
    "            ]  # the action grid\n",
    "\n",
    "            x = init[0]\n",
    "            y = init[1]\n",
    "            g = 0\n",
    "            f = g + heuristic[init[0]][init[0]]\n",
    "            cell = [[f, g, x, y]]\n",
    "\n",
    "            found = False  # flag that is set when search is complete\n",
    "            resign = False  # flag set if we can't find expand\n",
    "\n",
    "            while not found and not resign:\n",
    "                if len(cell) == 0:\n",
    "                    return \"FAIL\"\n",
    "                else:\n",
    "                    cell.sort()  # to choose the least costliest action so as to move closer to the goal\n",
    "                    cell.reverse()\n",
    "                    next = cell.pop()\n",
    "                    x = next[2]\n",
    "                    y = next[3]\n",
    "                    g = next[1]\n",
    "\n",
    "                    if x == goal[0] and y == goal[1]:\n",
    "                        found = True\n",
    "                    else:\n",
    "                        for i in range(len(delta)):  # to try out different valid actions\n",
    "                            x2 = x + delta[i][0]\n",
    "                            y2 = y + delta[i][1]\n",
    "                            if x2 >= 0 and x2 < len(grid) and y2 >= 0 and y2 < len(grid[0]):\n",
    "                                if closed[x2][y2] == 0 and grid[x2][y2] == 0:\n",
    "                                    g2 = g + cost\n",
    "                                    f2 = g2 + heuristic[x2][y2]\n",
    "                                    cell.append([f2, g2, x2, y2])\n",
    "                                    closed[x2][y2] = 1\n",
    "                                    action[x2][y2] = i\n",
    "            invpath = []\n",
    "            x = goal[0]\n",
    "            y = goal[1]\n",
    "            invpath.append([x, y])  # we get the reverse path from here\n",
    "            while x != init[0] or y != init[1]:\n",
    "                x2 = x - delta[action[x][y]][0]\n",
    "                y2 = y - delta[action[x][y]][1]\n",
    "                x = x2\n",
    "                y = y2\n",
    "                invpath.append([x, y])\n",
    "\n",
    "            path = []\n",
    "            for i in range(len(invpath)):\n",
    "                path.append(invpath[len(invpath) - 1 - i])\n",
    "                \n",
    "#             print(\"ACTION MAP\")\n",
    "#             for i in range(len(action)):\n",
    "#                 print(action[i])\n",
    "\n",
    "            return path\n",
    "        return search(grid, init, goal, cost, heuristic)\n",
    "    \n",
    "    # Simulates Choice of Object to Buy and Deletes that Object from Object List\n",
    "    def choose_pdt(self):\n",
    "        #print(\"pdt list len\", len(self.pdt_list))\n",
    "        if len(self.pdt_list) == 0:\n",
    "            print(\"RAN OUT OF ITEMS IN SHOP\")\n",
    "            return -1\n",
    "        self.pdt_list.sort(key=lambda x: x.popularity, reverse=True)\n",
    "        index = min(random.randint(0, 5), len(self.pdt_list) -1)\n",
    "        chosen_pdt = copy.deepcopy(self.pdt_list[index])\n",
    "        return chosen_pdt\n",
    "    \n",
    "    def delete_pdt(self, product_index):\n",
    "        for i in range(len(self.pdt_list)):\n",
    "            if self.pdt_list[i].index == product_index:\n",
    "                #print(\"deleting pdt from list\", product_index)\n",
    "                \n",
    "                if self.pdt_list[i].qty == 1:\n",
    "                    self.pdt_list.pop(i)\n",
    "                else:\n",
    "                    self.pdt_list[i].qty -= 1\n",
    "                    \n",
    "                break\n",
    "        \n",
    "        return\n",
    "    \n",
    "    # Find Product in Sheleves\n",
    "    def find_shelf(self, chosen_pdt_index):\n",
    "        for shelf_index, shelf in enumerate(self.shelf_list):\n",
    "                # print(\"Checking shelf\", shelf_index)\n",
    "                if chosen_pdt_index in shelf.pdt_set:\n",
    "                    chosen_shelf_index = shelf_index\n",
    "        return chosen_shelf_index\n",
    "    \n",
    "    def delete_pdt_from_shelf(self, chosen_pdt_index, shelf_index):\n",
    "        # Remove product from shelf\n",
    "        shelf = self.shelf_list[shelf_index]\n",
    "        for i in range(len(shelf.pdts)):\n",
    "            if shelf.pdts[i].index == chosen_pdt_index:\n",
    "                # print(\"QTY of pdt\", shelf.pdts[i].qty)\n",
    "                    if shelf.pdts[i].qty <= 1:\n",
    "                        #print(\"ran out of product\", chosen_pdt_index)\n",
    "                        del shelf.pdts[i]\n",
    "                        shelf.pdt_set.discard(chosen_pdt_index)\n",
    "                    else:\n",
    "                        shelf.pdts[i].qty-= 1\n",
    "                    break\n",
    "                        \n",
    "        \n",
    "    def walk(self, init, goal, cur_size, cur_price):\n",
    "        # Conduct A*\n",
    "        delta = [(1,0), (-1,0), (0,1), (0,-1)]\n",
    "        for d in delta:\n",
    "            y = goal[0]+d[0]\n",
    "            x = goal[1]+d[1]\n",
    "            if x >= 0 and x < len(self.grid) and y >= 0 and y < len(self.grid[0]):\n",
    "                if goal == self.exit:\n",
    "                    [y,x] = [goal[0], goal[1]]\n",
    "                path = self.a_star(init, [y,x])\n",
    "                # print(\"init\", init)\n",
    "                # print(\"goal\", [y,x])\n",
    "                if path == \"FAIL\":\n",
    "                    z=0\n",
    "                    #print(\"FAILURE TO REACH SHELF by going to \", [y,x])\n",
    "                else:\n",
    "                    for cell in path:\n",
    "                        #print(\"walked\", cur_size)\n",
    "                        self.shopper_density_grid[cell[0]][cell[1]] += cur_size\n",
    "                        self.price_density_grid[cell[0]][cell[1]] += cur_price\n",
    "                    cur_pos = [y,x]\n",
    "                    #print(\"Visited \", y, x)\n",
    "                    return cur_pos\n",
    "        \n",
    "    # Simulates a person entering shop\n",
    "    def new_shopper(self):\n",
    "        #print(\"--Testing New Shopper--\")\n",
    "        max_number_of_products = 3\n",
    "        max_size = 300\n",
    "        \n",
    "        cur_number_of_pdt = 0\n",
    "        cur_size = random.randint(40, 60)\n",
    "        cur_price = 0\n",
    "        \n",
    "        # print(\"Size of Shopper:\", cur_size)\n",
    "        \n",
    "        # Random Entrance Square\n",
    "        cur_pos = random.choice(self.entrance)\n",
    "        \n",
    "        if len(self.pdt_list) == 0:\n",
    "            return -1\n",
    "        while cur_size < max_size and cur_number_of_pdt < 3 and len(self.pdt_list) > 0:\n",
    "            \n",
    "            # Choose what Product to Buy\n",
    "            chosen_pdt = self.choose_pdt()\n",
    "            if cur_size + chosen_pdt.size > max_size:\n",
    "                #print(\"next pdt too heavy\")\n",
    "                break\n",
    "            \n",
    "            #print(\"Chosen Product:\", chosen_pdt.index)\n",
    "        \n",
    "            # Find Shelf Index\n",
    "            chosen_shelf_index = self.find_shelf(chosen_pdt.index)\n",
    "            #print(\"Shelf Containing Product:\", chosen_shelf_index)\n",
    "        \n",
    "            # Find Location of Shelf \n",
    "            for y in range(len(self.grid)):\n",
    "                for x in range(len(self.grid[0])):\n",
    "                    if self.grid[y][x] == chosen_shelf_index:\n",
    "                        shelf_location = (y,x)\n",
    "    \n",
    "            # Walk from cur_pos to another shelf while tracking the movement of the shopper\n",
    "            cur_pos = self.walk(cur_pos, shelf_location, cur_size, cur_price)\n",
    "            self.delete_pdt(chosen_pdt.index)\n",
    "            self.delete_pdt_from_shelf(chosen_pdt.index, chosen_shelf_index)\n",
    "            self.value_of_goods_bought += chosen_pdt.discounted_price\n",
    "            cur_number_of_pdt +=1\n",
    "            cur_price += chosen_pdt.discounted_price\n",
    "            cur_size += chosen_pdt.size\n",
    "        \n",
    "        # Walk to Counter\n",
    "        cur_pos = self.walk(cur_pos, random.choice(self.counter), cur_size, cur_price)\n",
    "        \n",
    "        # Walk to Exit [cur_price == 0 because they aready paid]\n",
    "        cur_pos = self.walk(cur_pos, random.choice(self.exit), cur_size, 0)\n",
    "        #print(\"--Finishing Shopper--\")\n",
    "                \n",
    "        return copy.deepcopy(self.shopper_density_grid)\n",
    "        \n",
    "    # Get adjusted Price Grid\n",
    "    def get_price_grid(self):\n",
    "        total_price = 0\n",
    "        for i in range(len(self.price_density_grid)):\n",
    "            for j in range(len(self.price_density_grid)):\n",
    "                total_price += self.price_density_grid[i][j]\n",
    "        \n",
    "        for i in range(len(self.price_density_grid)):\n",
    "            for j in range(len(self.price_density_grid)):\n",
    "                self.price_density_grid[i][j] *= (self.value_of_goods_bought/total_price)\n",
    "                self.price_density_grid[i][j] = int(self.price_density_grid[i][j])\n",
    "        \n",
    "        return copy.deepcopy(self.price_density_grid)\n",
    "    \n",
    "    def get_shopper_grid(self):\n",
    "        return self.shopper_density_grid"
   ]
  },
  {
   "cell_type": "raw",
   "metadata": {
    "scrolled": false
   },
   "source": [
    "## Testing the Layout Object\n",
    "example_layout_grid = [\n",
    "    [0,0,0,0,0,0,0,0],\n",
    "    [0,0,1,0,0,2,0,0],\n",
    "    [0,0,3,0,0,4,0,0],\n",
    "    [0,0,11,0,0,6,0,0],\n",
    "    [0,0,12,0,0,7,0,0],\n",
    "    [0,0,13,0,0,8,0,0],\n",
    "    [0,0,14,0,0,9,0,0],\n",
    "    [0,0,15,0,0,10,0,0]\n",
    "]\n",
    "\n",
    "pdt_1 = copy.deepcopy(pdt_list[0])\n",
    "pdt_2 = copy.deepcopy(pdt_list[1])\n",
    "\n",
    "print(\"QTY of pdt1\", pdt_1.qty)\n",
    "print(\"QTY of pdt2\", pdt_2.qty)\n",
    "\n",
    "total_value = pdt_1.qty*pdt_1.discounted_price + pdt_2.qty*pdt_2.discounted_price\n",
    "print(\"total_value\", total_value)\n",
    "\n",
    "shelf_0 = shelf()\n",
    "shelf_1 = shelf()\n",
    "shelf_2 = shelf()\n",
    "\n",
    "shelf_1.add_pdt(pdt_1)\n",
    "shelf_2.add_pdt(pdt_2)\n",
    "\n",
    "counter = (7,0)\n",
    "entrance = [7,7]\n",
    "exit = [7,6]\n",
    "test_layout = layout(example_layout_grid, counter, entrance, exit, [shelf_0, shelf_1, shelf_2], [pdt_1, pdt_2])\n",
    "\n",
    "shopper_density_grid = test_layout.new_shopper()\n",
    "shopper_density_grid = test_layout.new_shopper()\n",
    "shopper_density_grid = test_layout.new_shopper()\n",
    "\n",
    "price_density_grid = test_layout.get_price_grid()\n",
    "\n",
    "pprint(shopper_density_grid)\n",
    "print(\"---- Price Grid ----\")\n",
    "pprint(price_density_grid)"
   ]
  },
  {
   "cell_type": "markdown",
   "metadata": {},
   "source": [
    "## Calculating Product Damage\n",
    "### Collision Damage / Self-Drops"
   ]
  },
  {
   "cell_type": "code",
   "execution_count": 13,
   "metadata": {},
   "outputs": [],
   "source": [
    "def loss(shopper_density, price_density):\n",
    "    p_collision = (min(shopper_density, 300)) **2 / (300*300)\n",
    "    return p_collision*price_density\n",
    "\n",
    "def total_loss(shopper_density_grid, price_density_grid):\n",
    "    net_loss = 0\n",
    "    for y in range(len(shopper_density_grid)):\n",
    "        for x in range(len(shopper_density_grid)):\n",
    "            net_loss += loss(shopper_density_grid[y][x], price_density_grid[y][x])\n",
    "\n",
    "    return net_loss\n"
   ]
  },
  {
   "cell_type": "markdown",
   "metadata": {},
   "source": [
    "## Simulate Layout in Figure 1\n",
    "### Create and Process Layout"
   ]
  },
  {
   "cell_type": "markdown",
   "metadata": {},
   "source": [
    "### Process Objects Based on Department to Place into Shelves"
   ]
  },
  {
   "cell_type": "markdown",
   "metadata": {},
   "source": [
    "### Run Simulation of Shoppers"
   ]
  },
  {
   "cell_type": "markdown",
   "metadata": {},
   "source": [
    "### Analysis of Crowd Density"
   ]
  },
  {
   "cell_type": "markdown",
   "metadata": {},
   "source": [
    "## Simulation Cells"
   ]
  },
  {
   "cell_type": "code",
   "execution_count": 14,
   "metadata": {},
   "outputs": [],
   "source": [
    "template='''\n",
    "000111111111100000111111111100001111111111000001\n",
    "000000000000000000000000000000000000000000000001\n",
    "200000000000000000000000000000000000000000000001\n",
    "200000000000000000000000000000000000000000666001\n",
    "200000000000000000000000000000000000000000666001\n",
    "200222003330033300400040004000400040000000666001\n",
    "200222003330033300440044004400440044000000666001\n",
    "200222003330033300440044004400440044000000666001\n",
    "200000000000000000044004400440044004400000000001\n",
    "200000000000000000044004400440044004400000000001\n",
    "\n",
    "200222003330033300000000000000000000000000666001\n",
    "200222003330033300004444400444440044444000666001\n",
    "200222003330033300004444400444440044444000666001\n",
    "200000000000000000000000000000000000000000666001\n",
    "200000000000000000000000000000000000000000666001\n",
    "200222003330033300004444400444440044444000666001\n",
    "200222003330033300004444400444440044444000666001\n",
    "200222003330033300000000000000000000000000666001\n",
    "200000000000000000000000000000000000000000666001\n",
    "200000000000000000000000000000000000000000666001\n",
    "\n",
    "200000000000000000000000000000000000000000666001\n",
    "200000000000000000000000000000000000000000666001\n",
    "205505505505505500000770077777777770077000666001\n",
    "205505505505505500000770077777777770077000000001\n",
    "205505505505505500000000000000000000000000000001\n",
    "205505505505505500000000000000000000000000666001\n",
    "205505505505505500000770077777777770077000666001\n",
    "205505505505505500000770077777777770077000666001\n",
    "205505505505505500000000000000000000000000666001\n",
    "205505505505505500000000000000000000000000666001\n",
    "\n",
    "205505505505505500000770077777777770077000666001\n",
    "205505505505505500000770077777777770077000666001\n",
    "205505505505505500000000000000000000000000666001\n",
    "200000000000000000000770077770077700777000666001\n",
    "200000000000000000000770077770077700777000666001\n",
    "200000000000000000000000000000000000000000000001\n",
    "200000000000000000000000000000000000000000666001\n",
    "200000000000000000000000000000000000000000666001\n",
    "000000000000000000000000000000000000000000666001\n",
    "000000000000000000000000000000000000000000666001\n",
    "\n",
    "000000000000000000000000000000000000000000666001\n",
    "000000000000000000000000000000000000000000666001\n",
    "000000000000000000000000000000000000000000666001\n",
    "000000000000000000000000000000000000000000666001\n",
    "000000000000000000000000000000000000000000666001\n",
    "000000000000000000000000000000000000000000666000\n",
    "000000000000000000000000000000000000000000000000\n",
    "000000000000000000000000000000000000000000000000\n",
    "'''\n",
    "departments = [\"a\",\"g\",\"c\",\"d\",\"e\",\"f\",\"b\"]\n",
    "\n",
    "def generate_layout(a,g):\n",
    "    if a == g:\n",
    "        return \"\"\n",
    "    index = 2\n",
    "    department_used = [0,0,0,0,0,0,0,0] # Whether the number has been used\n",
    "    department_used[a] =department_used[g] = 1 \n",
    "    print(\"A:\", a, \"G:\",g)\n",
    "    layout = (template)\n",
    "    layout = layout.replace(str(a), \"a\")\n",
    "    layout = layout.replace(str(g), \"g\")\n",
    "\n",
    "    for i in range(1,8):\n",
    "        if not department_used[i]:\n",
    "            print(\"replacing\", i, \"with\", departments[index])\n",
    "            layout = layout.replace(str(i), departments[index])\n",
    "            department_used[i] = 1\n",
    "            index += 1\n",
    "    return layout\n",
    "                \n",
    "# for a in range(1,8):\n",
    "#     for b in range(1,8):\n",
    "#         print(generate_layout(a,b))"
   ]
  },
  {
   "cell_type": "code",
   "execution_count": 15,
   "metadata": {},
   "outputs": [],
   "source": [
    "def split_row(word): \n",
    "    return [char for char in word] \n",
    "\n",
    "def evaluate_layout(test_layout):\n",
    "    # Parse Layout\n",
    "    test_layout = test_layout.replace('\\n\\n', '\\n')\n",
    "    test_layout = test_layout.strip(\"\\n\")\n",
    "\n",
    "    test_layout = test_layout.split(\"\\n\")\n",
    "    for i in range(len(test_layout)):\n",
    "        test_layout[i] = split_row(test_layout[i])\n",
    "        \n",
    "    department_dictionary = {\n",
    "        \"a\": \"Appliances\",\n",
    "        \"b\": \"Audio\",\n",
    "        \"c\": \"Cameras\",\n",
    "        \"d\": \"Cell Phones\",\n",
    "        \"e\": \"Computers&Tablets\",\n",
    "        \"f\": \"TV&Home Theater\",\n",
    "        \"g\": \"Video Gaming\",\n",
    "    }\n",
    "    shelf_list = [shelf(\"\")]\n",
    "    shelf_counter = 1\n",
    "    for (letter, department_name) in department_dictionary.items():\n",
    "        for y in range(len(test_layout)):\n",
    "            for x in range(len(test_layout)):\n",
    "                if str(test_layout[y][x]) == letter:\n",
    "                    # print(\"found shelf\", shelf_counter, \"department:\", department_name)\n",
    "                    test_layout[y][x] = str(shelf_counter)\n",
    "                    shelf_counter += 1\n",
    "                    shelf_list.append(shelf(department_name))\n",
    "\n",
    "    for y in range(len(test_layout)):\n",
    "        for x in range(len(test_layout)):\n",
    "            if not str(test_layout[y][x]).isdigit():\n",
    "                test_layout[y][x] = str(shelf_counter)\n",
    "                shelf_counter +=1\n",
    "            test_layout[y][x] = int(test_layout[y][x])\n",
    "\n",
    "\n",
    "\n",
    "    max_shelf_index = shelf_counter\n",
    "    \n",
    "    \n",
    "    # Put The Objects in Shelves\n",
    "    max_pdt_per_shelf = 3\n",
    "\n",
    "    pdt_index = 0\n",
    "    pdt_list.sort(key=lambda x: x.department)\n",
    "\n",
    "    for shelf_index in range(1, max_shelf_index):\n",
    "        # print(\"\\nShelf Index: \", shelf_index)\n",
    "        cur_shelf = shelf_list[shelf_index]\n",
    "        # print(\"Shelf Department -- \", cur_shelf.department)\n",
    "\n",
    "        for i in range(max_pdt_per_shelf):\n",
    "            next_pdt = copy.deepcopy(pdt_list[pdt_index])\n",
    "            if next_pdt.department == \"Appliances\" and cur_shelf.department != \"Appliances\":\n",
    "                print(\"Insufficient Appliance Space\")\n",
    "                return 99999\n",
    "            # print(\"Products Department\", next_pdt.department)\n",
    "            if cur_shelf.add_pdt(next_pdt) != -1:\n",
    "                # print(\"Added pdt id\", next_pdt.index)\n",
    "                pdt_index += 1\n",
    "                if pdt_index == len(pdt_list):\n",
    "                    break\n",
    "            else:\n",
    "                break\n",
    "        # print(\"Products in shelf\" , shelf_index, \":\", cur_shelf.pdt_set)\n",
    "\n",
    "        if pdt_index == len(pdt_list):\n",
    "            print(\"--- Finished All Products with\", shelf_index, \"out of\", max_shelf_index, \"shelves --- \")\n",
    "            break\n",
    "            \n",
    "    # Set up Object\n",
    "    ## Test Layout with Model\n",
    "    counters = [(40, 6),(40, 7),(40, 8),(40, 9),(40, 10), (40, 11), (40,12), (40,13)]\n",
    "    # counters = [(24, 24),(24, 25),(24, 26),(24, 23),(24, 22)]\n",
    "    entrances = [[47,30],[47,29],[47,28]]\n",
    "    exit = [[48,35],[48,36],[48,37]]\n",
    "    test_layout_object = layout(test_layout , counters, entrances, exit, shelf_list, pdt_list)\n",
    "    print(\"Number of products in layout:\", len(test_layout_object.pdt_list))\n",
    "    \n",
    "    \n",
    "    # Do Simulation\n",
    "    gc.collect()\n",
    "    for i in progressbar.progressbar(range(600)):\n",
    "        try:\n",
    "            shopper_density_grid = test_layout_object.new_shopper()\n",
    "            if shopper_density_grid == -1:\n",
    "                print(\"Exhausted Shop with approximately\", i, \"shoppers\")\n",
    "                break\n",
    "        except:\n",
    "            pass\n",
    "        \n",
    "    price_density_grid = test_layout_object.get_price_grid()\n",
    "    shopper_density_grid = test_layout_object.get_shopper_grid()\n",
    "    \n",
    "    return(np.std(shopper_density_grid, axis=(0,1)))"
   ]
  },
  {
   "cell_type": "code",
   "execution_count": 16,
   "metadata": {},
   "outputs": [
    {
     "name": "stdout",
     "output_type": "stream",
     "text": [
      "#################################   TESTING A G 1 1 #################################################\n",
      "#################################   TESTING A G 1 2 #################################################\n",
      "A: 1 G: 2\n",
      "replacing 3 with c\n",
      "replacing 4 with d\n",
      "replacing 5 with e\n",
      "replacing 6 with f\n",
      "replacing 7 with b\n",
      "--- Finished All Products with 571 out of 630 shelves --- \n",
      "Number of products in layout: 183"
     ]
    },
    {
     "name": "stderr",
     "output_type": "stream",
     "text": [
      "\r",
      "N/A% (0 of 600) |                        | Elapsed Time: 0:00:00 ETA:  --:--:--"
     ]
    },
    {
     "name": "stdout",
     "output_type": "stream",
     "text": [
      "\n"
     ]
    },
    {
     "name": "stderr",
     "output_type": "stream",
     "text": [
      "N/A% (0 of 600) |                        | Elapsed Time: 0:00:00 ETA:  --:--:--"
     ]
    },
    {
     "name": "stdout",
     "output_type": "stream",
     "text": [
      "Exhausted Shop with approximately 539 shoppers\n",
      "Standard Deviation: 2594.4432752512307\n",
      "New Bestj-\n",
      "#################################   TESTING A G 1 3 #################################################\n",
      "A: 1 G: 3\n",
      "replacing 2 with c\n",
      "replacing 4 with d\n",
      "replacing 5 with e\n",
      "replacing 6 with f\n",
      "replacing 7 with b\n",
      "--- Finished All Products with 580 out of 630 shelves --- \n",
      "Number of products in layout: 183\n"
     ]
    },
    {
     "name": "stderr",
     "output_type": "stream",
     "text": [
      "N/A% (0 of 600) |                        | Elapsed Time: 0:00:00 ETA:  --:--:--"
     ]
    },
    {
     "name": "stdout",
     "output_type": "stream",
     "text": [
      "Exhausted Shop with approximately 544 shoppers\n",
      "Standard Deviation: 2551.982939240618\n",
      "New Bestj-\n",
      "#################################   TESTING A G 1 4 #################################################\n",
      "A: 1 G: 4\n",
      "replacing 2 with c\n",
      "replacing 3 with d\n",
      "replacing 5 with e\n",
      "replacing 6 with f\n",
      "replacing 7 with b\n",
      "--- Finished All Products with 529 out of 630 shelves --- \n",
      "Number of products in layout: 183\n"
     ]
    },
    {
     "name": "stderr",
     "output_type": "stream",
     "text": [
      "  0% (2 of 600) |                        | Elapsed Time: 0:00:00 ETA:   0:00:32"
     ]
    },
    {
     "name": "stdout",
     "output_type": "stream",
     "text": [
      "Exhausted Shop with approximately 543 shoppers\n",
      "Standard Deviation: 2577.188090507166\n",
      "#################################   TESTING A G 1 5 #################################################\n",
      "A: 1 G: 5\n",
      "replacing 2 with c\n",
      "replacing 3 with d\n",
      "replacing 4 with e\n",
      "replacing 6 with f\n",
      "replacing 7 with b\n",
      "--- Finished All Products with 524 out of 630 shelves --- \n",
      "Number of products in layout: 183\n"
     ]
    },
    {
     "name": "stderr",
     "output_type": "stream",
     "text": [
      "  0% (2 of 600) |                        | Elapsed Time: 0:00:00 ETA:   0:00:30"
     ]
    },
    {
     "name": "stdout",
     "output_type": "stream",
     "text": [
      "Exhausted Shop with approximately 543 shoppers\n",
      "Standard Deviation: 2538.027210617805\n",
      "New Bestj-\n",
      "#################################   TESTING A G 1 6 #################################################\n",
      "A: 1 G: 6\n",
      "replacing 2 with c\n",
      "replacing 3 with d\n",
      "replacing 4 with e\n",
      "replacing 5 with f\n",
      "replacing 7 with b\n",
      "--- Finished All Products with 520 out of 630 shelves --- \n",
      "Number of products in layout: 183\n"
     ]
    },
    {
     "name": "stderr",
     "output_type": "stream",
     "text": [
      "  0% (2 of 600) |                        | Elapsed Time: 0:00:00 ETA:   0:00:30"
     ]
    },
    {
     "name": "stdout",
     "output_type": "stream",
     "text": [
      "Exhausted Shop with approximately 522 shoppers\n",
      "Standard Deviation: 2684.458235362425\n",
      "#################################   TESTING A G 1 7 #################################################\n",
      "A: 1 G: 7\n",
      "replacing 2 with c\n",
      "replacing 3 with d\n",
      "replacing 4 with e\n",
      "replacing 5 with f\n",
      "replacing 6 with b\n",
      "--- Finished All Products with 526 out of 630 shelves --- \n",
      "Number of products in layout: 183\n"
     ]
    },
    {
     "name": "stderr",
     "output_type": "stream",
     "text": [
      " 86% (517 of 600) |##################    | Elapsed Time: 0:00:43 ETA:   0:00:06"
     ]
    },
    {
     "name": "stdout",
     "output_type": "stream",
     "text": [
      "Exhausted Shop with approximately 517 shoppers\n",
      "Standard Deviation: 2645.572114788149\n",
      "#################################   TESTING A G 2 1 #################################################\n",
      "A: 2 G: 1\n",
      "replacing 3 with c\n",
      "replacing 4 with d\n",
      "replacing 5 with e\n",
      "replacing 6 with f\n",
      "replacing 7 with b\n",
      "Insufficient Appliance Space\n",
      "Standard Deviation: 99999\n",
      "#################################   TESTING A G 2 2 #################################################\n",
      "#################################   TESTING A G 2 3 #################################################\n",
      "A: 2 G: 3\n",
      "replacing 1 with c\n",
      "replacing 4 with d\n",
      "replacing 5 with e\n",
      "replacing 6 with f\n",
      "replacing 7 with b\n",
      "Insufficient Appliance Space\n",
      "Standard Deviation: 99999\n",
      "#################################   TESTING A G 2 4 #################################################\n",
      "A: 2 G: 4\n",
      "replacing 1 with c\n",
      "replacing 3 with d\n",
      "replacing 5 with e\n",
      "replacing 6 with f\n",
      "replacing 7 with b\n",
      "Insufficient Appliance Space\n",
      "Standard Deviation: 99999\n",
      "#################################   TESTING A G 2 5 #################################################\n",
      "A: 2 G: 5\n",
      "replacing 1 with c\n",
      "replacing 3 with d\n",
      "replacing 4 with e\n",
      "replacing 6 with f\n",
      "replacing 7 with b\n",
      "Insufficient Appliance Space\n",
      "Standard Deviation: 99999\n",
      "#################################   TESTING A G 2 6 #################################################\n",
      "A: 2 G: 6\n",
      "replacing 1 with c\n",
      "replacing 3 with d\n",
      "replacing 4 with e\n",
      "replacing 5 with f\n",
      "replacing 7 with b\n",
      "Insufficient Appliance Space\n",
      "Standard Deviation: 99999\n",
      "#################################   TESTING A G 2 7 #################################################\n",
      "A: 2 G: 7\n",
      "replacing 1 with c\n",
      "replacing 3 with d\n",
      "replacing 4 with e\n",
      "replacing 5 with f\n",
      "replacing 6 with b\n",
      "Insufficient Appliance Space\n",
      "Standard Deviation: 99999\n",
      "#################################   TESTING A G 3 1 #################################################\n",
      "A: 3 G: 1\n",
      "replacing 2 with c\n",
      "replacing 4 with d\n",
      "replacing 5 with e\n",
      "replacing 6 with f\n",
      "replacing 7 with b\n",
      "Insufficient Appliance Space\n",
      "Standard Deviation: 99999\n",
      "#################################   TESTING A G 3 2 #################################################\n",
      "A: 3 G: 2\n",
      "replacing 1 with c\n",
      "replacing 4 with d\n",
      "replacing 5 with e\n",
      "replacing 6 with f\n",
      "replacing 7 with b\n",
      "Insufficient Appliance Space\n",
      "Standard Deviation: 99999\n",
      "#################################   TESTING A G 3 3 #################################################\n",
      "#################################   TESTING A G 3 4 #################################################\n",
      "A: 3 G: 4\n",
      "replacing 1 with c\n",
      "replacing 2 with d\n",
      "replacing 5 with e\n",
      "replacing 6 with f\n",
      "replacing 7 with b\n",
      "Insufficient Appliance Space\n",
      "Standard Deviation: 99999\n",
      "#################################   TESTING A G 3 5 #################################################\n",
      "A: 3 G: 5\n",
      "replacing 1 with c\n",
      "replacing 2 with d\n",
      "replacing 4 with e\n",
      "replacing 6 with f\n",
      "replacing 7 with b\n",
      "Insufficient Appliance Space\n",
      "Standard Deviation: 99999\n",
      "#################################   TESTING A G 3 6 #################################################\n",
      "A: 3 G: 6\n",
      "replacing 1 with c\n",
      "replacing 2 with d\n",
      "replacing 4 with e\n",
      "replacing 5 with f\n",
      "replacing 7 with b\n",
      "Insufficient Appliance Space\n",
      "Standard Deviation: 99999\n",
      "#################################   TESTING A G 3 7 #################################################\n",
      "A: 3 G: 7\n",
      "replacing 1 with c\n",
      "replacing 2 with d\n",
      "replacing 4 with e\n",
      "replacing 5 with f\n",
      "replacing 6 with b\n",
      "Insufficient Appliance Space\n",
      "Standard Deviation: 99999\n",
      "#################################   TESTING A G 4 1 #################################################\n",
      "A: 4 G: 1\n",
      "replacing 2 with c\n",
      "replacing 3 with d\n",
      "replacing 5 with e\n",
      "replacing 6 with f\n",
      "replacing 7 with b\n",
      "--- Finished All Products with 559 out of 630 shelves --- \n"
     ]
    },
    {
     "name": "stderr",
     "output_type": "stream",
     "text": [
      "  0% (2 of 600) |                        | Elapsed Time: 0:00:00 ETA:   0:00:39"
     ]
    },
    {
     "name": "stdout",
     "output_type": "stream",
     "text": [
      "Number of products in layout: 183\n"
     ]
    },
    {
     "name": "stderr",
     "output_type": "stream",
     "text": [
      "N/A% (0 of 600) |                        | Elapsed Time: 0:00:00 ETA:  --:--:--"
     ]
    },
    {
     "name": "stdout",
     "output_type": "stream",
     "text": [
      "Exhausted Shop with approximately 548 shoppers\n",
      "Standard Deviation: 2520.029878818975\n",
      "New Bestj-\n",
      "#################################   TESTING A G 4 2 #################################################\n",
      "A: 4 G: 2\n",
      "replacing 1 with c\n",
      "replacing 3 with d\n",
      "replacing 5 with e\n",
      "replacing 6 with f\n",
      "replacing 7 with b\n",
      "--- Finished All Products with 571 out of 630 shelves --- \n",
      "Number of products in layout: 183\n"
     ]
    },
    {
     "name": "stderr",
     "output_type": "stream",
     "text": [
      "N/A% (0 of 600) |                        | Elapsed Time: 0:00:00 ETA:  --:--:--"
     ]
    },
    {
     "name": "stdout",
     "output_type": "stream",
     "text": [
      "Exhausted Shop with approximately 544 shoppers\n",
      "Standard Deviation: 2553.6422483366355\n",
      "#################################   TESTING A G 4 3 #################################################\n",
      "A: 4 G: 3\n",
      "replacing 1 with c\n",
      "replacing 2 with d\n",
      "replacing 5 with e\n",
      "replacing 6 with f\n",
      "replacing 7 with b\n",
      "--- Finished All Products with 580 out of 630 shelves --- \n",
      "Number of products in layout: 183\n"
     ]
    },
    {
     "name": "stderr",
     "output_type": "stream",
     "text": [
      "N/A% (0 of 600) |                        | Elapsed Time: 0:00:00 ETA:  --:--:--"
     ]
    },
    {
     "name": "stdout",
     "output_type": "stream",
     "text": [
      "Exhausted Shop with approximately 542 shoppers\n",
      "Standard Deviation: 2476.2212772550583\n",
      "New Bestj-\n",
      "#################################   TESTING A G 4 4 #################################################\n",
      "#################################   TESTING A G 4 5 #################################################\n",
      "A: 4 G: 5\n",
      "replacing 1 with c\n",
      "replacing 2 with d\n",
      "replacing 3 with e\n",
      "replacing 6 with f\n",
      "replacing 7 with b\n",
      "--- Finished All Products with 524 out of 630 shelves --- \n",
      "Number of products in layout: 183\n"
     ]
    },
    {
     "name": "stderr",
     "output_type": "stream",
     "text": [
      "N/A% (0 of 600) |                        | Elapsed Time: 0:00:00 ETA:  --:--:--"
     ]
    },
    {
     "name": "stdout",
     "output_type": "stream",
     "text": [
      "Exhausted Shop with approximately 565 shoppers\n",
      "Standard Deviation: 2349.0233440286006\n",
      "New Bestj-\n",
      "#################################   TESTING A G 4 6 #################################################\n",
      "A: 4 G: 6\n",
      "replacing 1 with c\n",
      "replacing 2 with d\n",
      "replacing 3 with e\n",
      "replacing 5 with f\n",
      "replacing 7 with b\n",
      "--- Finished All Products with 520 out of 630 shelves --- \n",
      "Number of products in layout: 183\n"
     ]
    },
    {
     "name": "stderr",
     "output_type": "stream",
     "text": [
      "N/A% (0 of 600) |                        | Elapsed Time: 0:00:00 ETA:  --:--:--"
     ]
    },
    {
     "name": "stdout",
     "output_type": "stream",
     "text": [
      "Exhausted Shop with approximately 549 shoppers\n",
      "Standard Deviation: 2573.1251018714793\n",
      "#################################   TESTING A G 4 7 #################################################\n",
      "A: 4 G: 7\n",
      "replacing 1 with c\n",
      "replacing 2 with d\n",
      "replacing 3 with e\n",
      "replacing 5 with f\n",
      "replacing 6 with b\n",
      "--- Finished All Products with 526 out of 630 shelves --- \n",
      "Number of products in layout: 183\n"
     ]
    },
    {
     "name": "stderr",
     "output_type": "stream",
     "text": [
      "N/A% (0 of 600) |                        | Elapsed Time: 0:00:00 ETA:  --:--:--"
     ]
    },
    {
     "name": "stdout",
     "output_type": "stream",
     "text": [
      "Exhausted Shop with approximately 541 shoppers\n",
      "Standard Deviation: 2611.369200355852\n",
      "#################################   TESTING A G 5 1 #################################################\n",
      "A: 5 G: 1\n",
      "replacing 2 with c\n",
      "replacing 3 with d\n",
      "replacing 4 with e\n",
      "replacing 6 with f\n",
      "replacing 7 with b\n",
      "--- Finished All Products with 559 out of 630 shelves --- \n",
      "Number of products in layout: 183\n"
     ]
    },
    {
     "name": "stderr",
     "output_type": "stream",
     "text": [
      "N/A% (0 of 600) |                        | Elapsed Time: 0:00:00 ETA:  --:--:--"
     ]
    },
    {
     "name": "stdout",
     "output_type": "stream",
     "text": [
      "Exhausted Shop with approximately 539 shoppers\n",
      "Standard Deviation: 2521.8897781700684\n",
      "#################################   TESTING A G 5 2 #################################################\n",
      "A: 5 G: 2\n",
      "replacing 1 with c\n",
      "replacing 3 with d\n",
      "replacing 4 with e\n",
      "replacing 6 with f\n",
      "replacing 7 with b\n",
      "--- Finished All Products with 571 out of 630 shelves --- \n",
      "Number of products in layout: 183\n"
     ]
    },
    {
     "name": "stderr",
     "output_type": "stream",
     "text": [
      "N/A% (0 of 600) |                        | Elapsed Time: 0:00:00 ETA:  --:--:--"
     ]
    },
    {
     "name": "stdout",
     "output_type": "stream",
     "text": [
      "Exhausted Shop with approximately 543 shoppers\n",
      "Standard Deviation: 2551.903500156124\n",
      "#################################   TESTING A G 5 3 #################################################\n",
      "A: 5 G: 3\n",
      "replacing 1 with c\n",
      "replacing 2 with d\n",
      "replacing 4 with e\n",
      "replacing 6 with f\n",
      "replacing 7 with b\n",
      "--- Finished All Products with 580 out of 630 shelves --- \n",
      "Number of products in layout: 183\n"
     ]
    },
    {
     "name": "stderr",
     "output_type": "stream",
     "text": [
      "N/A% (0 of 600) |                        | Elapsed Time: 0:00:00 ETA:  --:--:--"
     ]
    },
    {
     "name": "stdout",
     "output_type": "stream",
     "text": [
      "Exhausted Shop with approximately 545 shoppers\n",
      "Standard Deviation: 2507.84999887283\n",
      "#################################   TESTING A G 5 4 #################################################\n",
      "A: 5 G: 4\n",
      "replacing 1 with c\n",
      "replacing 2 with d\n",
      "replacing 3 with e\n",
      "replacing 6 with f\n",
      "replacing 7 with b\n",
      "--- Finished All Products with 529 out of 630 shelves --- \n",
      "Number of products in layout: 183\n"
     ]
    },
    {
     "name": "stderr",
     "output_type": "stream",
     "text": [
      "N/A% (0 of 600) |                        | Elapsed Time: 0:00:00 ETA:  --:--:--"
     ]
    },
    {
     "name": "stdout",
     "output_type": "stream",
     "text": [
      "Exhausted Shop with approximately 568 shoppers\n",
      "Standard Deviation: 2397.4840337062933\n",
      "#################################   TESTING A G 5 5 #################################################\n",
      "#################################   TESTING A G 5 6 #################################################\n",
      "A: 5 G: 6\n",
      "replacing 1 with c\n",
      "replacing 2 with d\n",
      "replacing 3 with e\n",
      "replacing 4 with f\n",
      "replacing 7 with b\n",
      "--- Finished All Products with 520 out of 630 shelves --- \n",
      "Number of products in layout: 183\n"
     ]
    },
    {
     "name": "stderr",
     "output_type": "stream",
     "text": [
      "N/A% (0 of 600) |                        | Elapsed Time: 0:00:00 ETA:  --:--:--"
     ]
    },
    {
     "name": "stdout",
     "output_type": "stream",
     "text": [
      "Exhausted Shop with approximately 551 shoppers\n",
      "Standard Deviation: 2518.5232098290976\n",
      "#################################   TESTING A G 5 7 #################################################\n",
      "A: 5 G: 7\n",
      "replacing 1 with c\n",
      "replacing 2 with d\n",
      "replacing 3 with e\n",
      "replacing 4 with f\n",
      "replacing 6 with b\n",
      "--- Finished All Products with 526 out of 630 shelves --- \n",
      "Number of products in layout: 183\n"
     ]
    },
    {
     "name": "stderr",
     "output_type": "stream",
     "text": [
      "  0% (2 of 600) |                        | Elapsed Time: 0:00:00 ETA:   0:00:40"
     ]
    },
    {
     "name": "stdout",
     "output_type": "stream",
     "text": [
      "Exhausted Shop with approximately 544 shoppers\n",
      "Standard Deviation: 2569.4399919240977\n",
      "#################################   TESTING A G 6 1 #################################################\n",
      "A: 6 G: 1\n",
      "replacing 2 with c\n",
      "replacing 3 with d\n",
      "replacing 4 with e\n",
      "replacing 5 with f\n",
      "replacing 7 with b\n",
      "--- Finished All Products with 559 out of 630 shelves --- \n",
      "Number of products in layout: 183\n"
     ]
    },
    {
     "name": "stderr",
     "output_type": "stream",
     "text": [
      "N/A% (0 of 600) |                        | Elapsed Time: 0:00:00 ETA:  --:--:--"
     ]
    },
    {
     "name": "stdout",
     "output_type": "stream",
     "text": [
      "Exhausted Shop with approximately 541 shoppers\n",
      "Standard Deviation: 2435.547744032142\n",
      "#################################   TESTING A G 6 2 #################################################\n",
      "A: 6 G: 2\n",
      "replacing 1 with c\n",
      "replacing 3 with d\n",
      "replacing 4 with e\n",
      "replacing 5 with f\n",
      "replacing 7 with b\n",
      "--- Finished All Products with 571 out of 630 shelves --- \n",
      "Number of products in layout: 183\n"
     ]
    },
    {
     "name": "stderr",
     "output_type": "stream",
     "text": [
      "  0% (2 of 600) |                        | Elapsed Time: 0:00:00 ETA:   0:00:32"
     ]
    },
    {
     "name": "stdout",
     "output_type": "stream",
     "text": [
      "Exhausted Shop with approximately 541 shoppers\n",
      "Standard Deviation: 2437.6807219825187\n",
      "#################################   TESTING A G 6 3 #################################################\n",
      "A: 6 G: 3\n",
      "replacing 1 with c\n",
      "replacing 2 with d\n",
      "replacing 4 with e\n",
      "replacing 5 with f\n",
      "replacing 7 with b\n",
      "--- Finished All Products with 580 out of 630 shelves --- \n",
      "Number of products in layout: 183\n"
     ]
    },
    {
     "name": "stderr",
     "output_type": "stream",
     "text": [
      "N/A% (0 of 600) |                        | Elapsed Time: 0:00:00 ETA:  --:--:--"
     ]
    },
    {
     "name": "stdout",
     "output_type": "stream",
     "text": [
      "Exhausted Shop with approximately 539 shoppers\n",
      "Standard Deviation: 2435.7614206703397\n",
      "#################################   TESTING A G 6 4 #################################################\n",
      "A: 6 G: 4\n",
      "replacing 1 with c\n",
      "replacing 2 with d\n",
      "replacing 3 with e\n",
      "replacing 5 with f\n",
      "replacing 7 with b\n",
      "--- Finished All Products with 529 out of 630 shelves --- \n",
      "Number of products in layout: 183\n"
     ]
    },
    {
     "name": "stderr",
     "output_type": "stream",
     "text": [
      "N/A% (0 of 600) |                        | Elapsed Time: 0:00:00 ETA:  --:--:--"
     ]
    },
    {
     "name": "stdout",
     "output_type": "stream",
     "text": [
      "Exhausted Shop with approximately 572 shoppers\n",
      "Standard Deviation: 2342.227144622902\n",
      "New Bestj-\n",
      "#################################   TESTING A G 6 5 #################################################\n",
      "A: 6 G: 5\n",
      "replacing 1 with c\n",
      "replacing 2 with d\n",
      "replacing 3 with e\n",
      "replacing 4 with f\n",
      "replacing 7 with b\n",
      "--- Finished All Products with 524 out of 630 shelves --- \n",
      "Number of products in layout: 183\n"
     ]
    },
    {
     "name": "stderr",
     "output_type": "stream",
     "text": [
      "N/A% (0 of 600) |                        | Elapsed Time: 0:00:00 ETA:  --:--:--"
     ]
    },
    {
     "name": "stdout",
     "output_type": "stream",
     "text": [
      "Exhausted Shop with approximately 573 shoppers\n",
      "Standard Deviation: 2259.0232316319252\n",
      "New Bestj-\n",
      "#################################   TESTING A G 6 6 #################################################\n",
      "#################################   TESTING A G 6 7 #################################################\n",
      "A: 6 G: 7\n",
      "replacing 1 with c\n",
      "replacing 2 with d\n",
      "replacing 3 with e\n",
      "replacing 4 with f\n",
      "replacing 5 with b\n",
      "--- Finished All Products with 526 out of 630 shelves --- \n",
      "Number of products in layout: 183\n"
     ]
    },
    {
     "name": "stderr",
     "output_type": "stream",
     "text": [
      "N/A% (0 of 600) |                        | Elapsed Time: 0:00:00 ETA:  --:--:--"
     ]
    },
    {
     "name": "stdout",
     "output_type": "stream",
     "text": [
      "Exhausted Shop with approximately 571 shoppers\n",
      "Standard Deviation: 2221.676883117245\n",
      "New Bestj-\n",
      "#################################   TESTING A G 7 1 #################################################\n",
      "A: 7 G: 1\n",
      "replacing 2 with c\n",
      "replacing 3 with d\n",
      "replacing 4 with e\n",
      "replacing 5 with f\n",
      "replacing 6 with b\n",
      "--- Finished All Products with 559 out of 630 shelves --- \n",
      "Number of products in layout: 183\n"
     ]
    },
    {
     "name": "stderr",
     "output_type": "stream",
     "text": [
      "N/A% (0 of 600) |                        | Elapsed Time: 0:00:00 ETA:  --:--:--"
     ]
    },
    {
     "name": "stdout",
     "output_type": "stream",
     "text": [
      "Exhausted Shop with approximately 516 shoppers\n",
      "Standard Deviation: 2714.7933377621057\n",
      "#################################   TESTING A G 7 2 #################################################\n",
      "A: 7 G: 2\n",
      "replacing 1 with c\n",
      "replacing 3 with d\n",
      "replacing 4 with e\n",
      "replacing 5 with f\n",
      "replacing 6 with b\n",
      "--- Finished All Products with 571 out of 630 shelves --- \n",
      "Number of products in layout: 183\n"
     ]
    },
    {
     "name": "stderr",
     "output_type": "stream",
     "text": [
      "  0% (3 of 600) |                        | Elapsed Time: 0:00:00 ETA:   0:00:26"
     ]
    },
    {
     "name": "stdout",
     "output_type": "stream",
     "text": [
      "Exhausted Shop with approximately 517 shoppers\n",
      "Standard Deviation: 2646.499077173145\n",
      "#################################   TESTING A G 7 3 #################################################\n",
      "A: 7 G: 3\n",
      "replacing 1 with c\n",
      "replacing 2 with d\n",
      "replacing 4 with e\n",
      "replacing 5 with f\n",
      "replacing 6 with b\n",
      "--- Finished All Products with 580 out of 630 shelves --- \n",
      "Number of products in layout: 183\n"
     ]
    },
    {
     "name": "stderr",
     "output_type": "stream",
     "text": [
      "N/A% (0 of 600) |                        | Elapsed Time: 0:00:00 ETA:  --:--:--"
     ]
    },
    {
     "name": "stdout",
     "output_type": "stream",
     "text": [
      "Exhausted Shop with approximately 517 shoppers\n",
      "Standard Deviation: 2727.836971509084\n",
      "#################################   TESTING A G 7 4 #################################################\n",
      "A: 7 G: 4\n",
      "replacing 1 with c\n",
      "replacing 2 with d\n",
      "replacing 3 with e\n",
      "replacing 5 with f\n",
      "replacing 6 with b\n",
      "--- Finished All Products with 529 out of 630 shelves --- \n",
      "Number of products in layout: 183\n"
     ]
    },
    {
     "name": "stderr",
     "output_type": "stream",
     "text": [
      "N/A% (0 of 600) |                        | Elapsed Time: 0:00:00 ETA:  --:--:--"
     ]
    },
    {
     "name": "stdout",
     "output_type": "stream",
     "text": [
      "Exhausted Shop with approximately 546 shoppers\n",
      "Standard Deviation: 2624.7473807005576\n",
      "#################################   TESTING A G 7 5 #################################################\n",
      "A: 7 G: 5\n",
      "replacing 1 with c\n",
      "replacing 2 with d\n",
      "replacing 3 with e\n",
      "replacing 4 with f\n",
      "replacing 6 with b\n",
      "--- Finished All Products with 524 out of 630 shelves --- \n",
      "Number of products in layout: 183\n"
     ]
    },
    {
     "name": "stderr",
     "output_type": "stream",
     "text": [
      "  0% (3 of 600) |                        | Elapsed Time: 0:00:00 ETA:   0:00:22"
     ]
    },
    {
     "name": "stdout",
     "output_type": "stream",
     "text": [
      "Exhausted Shop with approximately 545 shoppers\n",
      "Standard Deviation: 2506.918116261144\n",
      "#################################   TESTING A G 7 6 #################################################\n",
      "A: 7 G: 6\n",
      "replacing 1 with c\n",
      "replacing 2 with d\n",
      "replacing 3 with e\n",
      "replacing 4 with f\n",
      "replacing 5 with b\n",
      "--- Finished All Products with 520 out of 630 shelves --- \n",
      "Number of products in layout: 183\n"
     ]
    },
    {
     "name": "stderr",
     "output_type": "stream",
     "text": [
      " 91% (549 of 600) |####################  | Elapsed Time: 0:00:39 ETA:   0:00:03"
     ]
    },
    {
     "name": "stdout",
     "output_type": "stream",
     "text": [
      "Exhausted Shop with approximately 550 shoppers\n",
      "Standard Deviation: 2470.0534710081993\n",
      "#################################   TESTING A G 7 7 #################################################\n",
      "Best a,g 7 7\n"
     ]
    }
   ],
   "source": [
    "min_sd = 9999999\n",
    "min_a_g = (9,9)\n",
    "for a in range(1,8):\n",
    "    for g in range(1,8):\n",
    "        print(\"################################# \",\" TESTING A G\", a,g, \"#################################################\")\n",
    "        if a == g:\n",
    "            continue\n",
    "        cur_sd = evaluate_layout(generate_layout(a,g))\n",
    "        print(\"Standard Deviation:\", cur_sd)\n",
    "        min_sd = min(cur_sd, min_sd)\n",
    "        if min_sd == cur_sd:\n",
    "            min_a_g = (a,g)\n",
    "            print(\"New Bestj-\")\n",
    "            \n",
    "print(\"Best a,g\", min_a_g)"
   ]
  },
  {
   "cell_type": "code",
   "execution_count": 18,
   "metadata": {},
   "outputs": [
    {
     "name": "stdout",
     "output_type": "stream",
     "text": [
      "Best a,g (6, 7)\n"
     ]
    }
   ],
   "source": [
    "print(\"Best a,g\", min_a_g)"
   ]
  },
  {
   "cell_type": "code",
   "execution_count": 17,
   "metadata": {},
   "outputs": [
    {
     "name": "stdout",
     "output_type": "stream",
     "text": [
      "A: 4 G: 3\n",
      "replacing 1 with c\n",
      "replacing 2 with d\n",
      "replacing 5 with e\n",
      "replacing 6 with f\n",
      "replacing 7 with b\n",
      "\n",
      "000cccccccccc00000cccccccccc0000cccccccccc00000c\n",
      "00000000000000000000000000000000000000000000000c\n",
      "d0000000000000000000000000000000000000000000000c\n",
      "d00000000000000000000000000000000000000000fff00c\n",
      "d00000000000000000000000000000000000000000fff00c\n",
      "d00ddd00ggg00ggg00a000a000a000a000a0000000fff00c\n",
      "d00ddd00ggg00ggg00aa00aa00aa00aa00aa000000fff00c\n",
      "d00ddd00ggg00ggg00aa00aa00aa00aa00aa000000fff00c\n",
      "d000000000000000000aa00aa00aa00aa00aa0000000000c\n",
      "d000000000000000000aa00aa00aa00aa00aa0000000000c\n",
      "\n",
      "d00ddd00ggg00ggg00000000000000000000000000fff00c\n",
      "d00ddd00ggg00ggg0000aaaaa00aaaaa00aaaaa000fff00c\n",
      "d00ddd00ggg00ggg0000aaaaa00aaaaa00aaaaa000fff00c\n",
      "d00000000000000000000000000000000000000000fff00c\n",
      "d00000000000000000000000000000000000000000fff00c\n",
      "d00ddd00ggg00ggg0000aaaaa00aaaaa00aaaaa000fff00c\n",
      "d00ddd00ggg00ggg0000aaaaa00aaaaa00aaaaa000fff00c\n",
      "d00ddd00ggg00ggg00000000000000000000000000fff00c\n",
      "d00000000000000000000000000000000000000000fff00c\n",
      "d00000000000000000000000000000000000000000fff00c\n",
      "\n",
      "d00000000000000000000000000000000000000000fff00c\n",
      "d00000000000000000000000000000000000000000fff00c\n",
      "d0ee0ee0ee0ee0ee00000bb00bbbbbbbbbb00bb000fff00c\n",
      "d0ee0ee0ee0ee0ee00000bb00bbbbbbbbbb00bb00000000c\n",
      "d0ee0ee0ee0ee0ee0000000000000000000000000000000c\n",
      "d0ee0ee0ee0ee0ee00000000000000000000000000fff00c\n",
      "d0ee0ee0ee0ee0ee00000bb00bbbbbbbbbb00bb000fff00c\n",
      "d0ee0ee0ee0ee0ee00000bb00bbbbbbbbbb00bb000fff00c\n",
      "d0ee0ee0ee0ee0ee00000000000000000000000000fff00c\n",
      "d0ee0ee0ee0ee0ee00000000000000000000000000fff00c\n",
      "\n",
      "d0ee0ee0ee0ee0ee00000bb00bbbbbbbbbb00bb000fff00c\n",
      "d0ee0ee0ee0ee0ee00000bb00bbbbbbbbbb00bb000fff00c\n",
      "d0ee0ee0ee0ee0ee00000000000000000000000000fff00c\n",
      "d00000000000000000000bb00bbbb00bbb00bbb000fff00c\n",
      "d00000000000000000000bb00bbbb00bbb00bbb000fff00c\n",
      "d0000000000000000000000000000000000000000000000c\n",
      "d00000000000000000000000000000000000000000fff00c\n",
      "d00000000000000000000000000000000000000000fff00c\n",
      "000000000000000000000000000000000000000000fff00c\n",
      "000000000000000000000000000000000000000000fff00c\n",
      "\n",
      "000000000000000000000000000000000000000000fff00c\n",
      "000000000000000000000000000000000000000000fff00c\n",
      "000000000000000000000000000000000000000000fff00c\n",
      "000000000000000000000000000000000000000000fff00c\n",
      "000000000000000000000000000000000000000000fff00c\n",
      "000000000000000000000000000000000000000000fff000\n",
      "000000000000000000000000000000000000000000000000\n",
      "000000000000000000000000000000000000000000000000\n",
      "\n"
     ]
    }
   ],
   "source": [
    "print(generate_layout(4,3))"
   ]
  },
  {
   "cell_type": "code",
   "execution_count": null,
   "metadata": {},
   "outputs": [],
   "source": []
  }
 ],
 "metadata": {
  "kernelspec": {
   "display_name": "Python 3",
   "language": "python",
   "name": "python3"
  },
  "language_info": {
   "codemirror_mode": {
    "name": "ipython",
    "version": 3
   },
   "file_extension": ".py",
   "mimetype": "text/x-python",
   "name": "python",
   "nbconvert_exporter": "python",
   "pygments_lexer": "ipython3",
   "version": "3.7.5"
  }
 },
 "nbformat": 4,
 "nbformat_minor": 2
}
